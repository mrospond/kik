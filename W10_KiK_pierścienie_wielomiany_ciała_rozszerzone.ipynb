{
  "nbformat": 4,
  "nbformat_minor": 0,
  "metadata": {
    "colab": {
      "provenance": [],
      "toc_visible": true,
      "include_colab_link": true
    },
    "kernelspec": {
      "name": "python3",
      "display_name": "Python 3"
    },
    "language_info": {
      "name": "python"
    }
  },
  "cells": [
    {
      "cell_type": "markdown",
      "metadata": {
        "id": "view-in-github",
        "colab_type": "text"
      },
      "source": [
        "<a href=\"https://colab.research.google.com/github/mrospond/kik/blob/main/W10_KiK_pier%C5%9Bcienie_wielomiany_cia%C5%82a_rozszerzone.ipynb\" target=\"_parent\"><img src=\"https://colab.research.google.com/assets/colab-badge.svg\" alt=\"Open In Colab\"/></a>"
      ]
    },
    {
      "cell_type": "code",
      "source": [
        "#@title Potrzebne biblioteki...\n",
        "\n",
        "# Obliczenia symboliczne\n",
        "from sympy import *\n",
        "\n",
        "# Wyrażenia regularne do kontroli wprowadzanych danych\n",
        "import re"
      ],
      "metadata": {
        "id": "e9_HTJHJfmD2"
      },
      "execution_count": null,
      "outputs": []
    },
    {
      "cell_type": "markdown",
      "source": [
        "# Mnożenie wielomianów"
      ],
      "metadata": {
        "id": "uvZYmn7Rg8b7"
      }
    },
    {
      "cell_type": "code",
      "source": [
        "#@markdown Bezpośrednie użycie splotu\n",
        "\n",
        "def poly_mult(p, q):\n",
        "    \"\"\"\n",
        "    Mnożenie dwóch wielomianów nad GF(2)\n",
        "    \"\"\"\n",
        "    m, n = len(p), len(q)\n",
        "    r = [0] * (m + n - 1)\n",
        "    for i in range(m):\n",
        "        for j in range(n):\n",
        "            r[i+j] += p[i] * q[j]\n",
        "            r[i+j] %= 2\n",
        "    return r"
      ],
      "metadata": {
        "id": "PRL9H5iKc4Sm"
      },
      "execution_count": null,
      "outputs": []
    },
    {
      "cell_type": "code",
      "source": [
        "#@title { run: \"auto\" }\n",
        "#@markdown Mnożenie wielomianów $\\mathit{GF}(2)[x]$\n",
        "\n",
        "#@markdown Pierwszy wielomian:\n",
        "p = \"1100011\" #@param {type:\"string\"}\n",
        "#@markdown Drugi wielomian:\n",
        "q = \"111\" #@param {type:\"string\"}\n",
        "\n",
        "pattern = '^[01]+$'\n",
        "\n",
        "assert re.match(pattern,p) and re.match(pattern,q), \"Tylko wielomiany nad GF(2)!\"\n",
        "\n",
        "p = [int(c) for c in p]\n",
        "q = [int(c) for c in q]\n",
        "\n",
        "r = poly_mult(p, q)\n",
        "\n",
        "# print(r) # to byłaby lista\n",
        "print(''.join(map(str,r)))"
      ],
      "metadata": {
        "id": "a-60Gi6ChBXp",
        "outputId": "72c2f6a1-fb33-4039-826e-1bc423365fe9",
        "colab": {
          "base_uri": "https://localhost:8080/"
        }
      },
      "execution_count": null,
      "outputs": [
        {
          "output_type": "stream",
          "name": "stdout",
          "text": [
            "100101001\n"
          ]
        }
      ]
    },
    {
      "cell_type": "code",
      "source": [
        "#@markdown Oczywiście `sympy` załatwia nam to automatem...\n",
        "\n",
        "x = symbols('x')\n",
        "p = Poly(x**6 + x**5 + x + 1, x, domain=GF(2))\n",
        "q = Poly(x**2 + x + 1, x, domain=GF(2))\n",
        "\n",
        "r = p*q\n",
        "r_list = r.all_coeffs()\n",
        "print(f\"({p.expr})*({q.expr})=({r.expr}), tj. {r_list}\")"
      ],
      "metadata": {
        "id": "ySBE0eG_drnL",
        "outputId": "c2a5f0c4-75b4-44e4-beda-9fe67539e7ec",
        "colab": {
          "base_uri": "https://localhost:8080/"
        }
      },
      "execution_count": null,
      "outputs": [
        {
          "output_type": "stream",
          "name": "stdout",
          "text": [
            "(x**6 + x**5 + x + 1)*(x**2 + x + 1)=(x**8 + x**5 + x**3 + 1), tj. [1, 0, 0, 1, 0, 1, 0, 0, 1]\n"
          ]
        }
      ]
    },
    {
      "cell_type": "code",
      "source": [
        "#@title { run: \"auto\" }\n",
        "#@markdown Mnożenie wielomianów $\\mathit{GF}(2)[x]$ z użyciem `sympy`\n",
        "\n",
        "#@markdown Pierwszy wielomian:\n",
        "p = \"1100011\" #@param {type:\"string\"}\n",
        "#@markdown Drugi wielomian:\n",
        "q = \"111\" #@param {type:\"string\"}\n",
        "\n",
        "pattern = '^[01]+$'\n",
        "\n",
        "assert re.match(pattern,p) and re.match(pattern,q), \"Tylko wielomiany nad GF(2)!\"\n",
        "\n",
        "p = [int(c) for c in p]\n",
        "q = [int(c) for c in q]\n",
        "\n",
        "x = symbols('x')\n",
        "pol_p = Poly(p, x, domain=GF(2))\n",
        "pol_q = Poly(q, x, domain=GF(2))\n",
        "\n",
        "pol_r = pol_p*pol_q\n",
        "print(f\"Wielomian {pol_p.expr} mnożony przez {pol_q.expr} daje {pol_r.expr}, tzn.\",end=\"\\n\")\n",
        "r = pol_r.all_coeffs()\n",
        "print(f\"{p} razy {q} daje {r}.\")"
      ],
      "metadata": {
        "id": "-2yz1TGIf_Mx",
        "outputId": "11781b30-0edd-49c1-e253-572bdc492ff9",
        "colab": {
          "base_uri": "https://localhost:8080/"
        }
      },
      "execution_count": null,
      "outputs": [
        {
          "output_type": "stream",
          "name": "stdout",
          "text": [
            "Wielomian x**6 + x**5 + x + 1 mnożony przez x**2 + x + 1 daje x**8 + x**5 + x**3 + 1, tzn.\n",
            "[1, 1, 0, 0, 0, 1, 1] razy [1, 1, 1] daje [1, 0, 0, 1, 0, 1, 0, 0, 1].\n"
          ]
        }
      ]
    },
    {
      "cell_type": "code",
      "source": [
        "#@title { run: \"auto\" }\n",
        "#@markdown To teraz dzielenie...\n",
        "\n",
        "#@markdown Dzielnik:\n",
        "p = \"1100011\" #@param {type:\"string\"}\n",
        "#@markdown Dzielna:\n",
        "q = \"111\" #@param {type:\"string\"}\n",
        "\n",
        "pattern = '^[01]+$'\n",
        "\n",
        "assert re.match(pattern,p) and re.match(pattern,q), \"Tylko wielomiany nad GF(2)!\"\n",
        "\n",
        "p = [int(c) for c in p]\n",
        "q = [int(c) for c in q]\n",
        "\n",
        "x = symbols('x')\n",
        "pol_p = Poly(p, x, domain=GF(2))\n",
        "pol_q = Poly(q, x, domain=GF(2))\n",
        "\n",
        "quotient, remainder = div(pol_p, pol_q, domain=GF(2))\n",
        "\n",
        "print(f\"Wynik ({pol_p.expr}):({pol_q.expr}) = ({quotient.expr}) + ({remainder.expr}):({pol_q.expr})\")\n",
        "print(f\"Tzn.: {pol_p.all_coeffs()}:{pol_q.all_coeffs()} = {quotient.all_coeffs()} + {remainder.all_coeffs()}:{pol_q.all_coeffs()}\")\n",
        "print(\"Sprawdźmy:\")\n",
        "quo_razy_q = quotient*pol_q\n",
        "print(f\"({quotient.expr})*({pol_q.expr}) = ({quo_razy_q.expr})\")\n",
        "quo_q_plus_r = quo_razy_q + remainder\n",
        "print(f\"i teraz: ({quo_razy_q.expr})+({remainder.expr}) = ({quo_q_plus_r.expr}) = ({pol_p.expr})\")"
      ],
      "metadata": {
        "id": "yo1E5_HAjxYO",
        "outputId": "86912a94-2f30-4a37-f3da-c583c1183a99",
        "colab": {
          "base_uri": "https://localhost:8080/"
        }
      },
      "execution_count": null,
      "outputs": [
        {
          "output_type": "stream",
          "name": "stdout",
          "text": [
            "Wynik (x**6 + x**5 + x + 1):(x**2 + x + 1) = (x**4 + x**2 + x) + (1):(x**2 + x + 1)\n",
            "Tzn.: [1, 1, 0, 0, 0, 1, 1]:[1, 1, 1] = [1, 0, 1, 1, 0] + [1]:[1, 1, 1]\n",
            "Sprawdźmy:\n",
            "(x**4 + x**2 + x)*(x**2 + x + 1) = (x**6 + x**5 + x)\n",
            "i teraz: (x**6 + x**5 + x)+(1) = (x**6 + x**5 + x + 1) = (x**6 + x**5 + x + 1)\n"
          ]
        }
      ]
    },
    {
      "cell_type": "markdown",
      "source": [
        "# Operacje w ciele rozszerzonym Galois $\\mathit{GF}\\left(2^\\ell\\right)$"
      ],
      "metadata": {
        "id": "1vnYNebfnX_j"
      }
    },
    {
      "cell_type": "code",
      "source": [
        "#@title { run: \"auto\" }\n",
        "#@markdown Podstawowe operacje w ciele $\\mathit{GF}\\left(2^8\\right)$\n",
        "\n",
        "#@markdown Pierwszy wielomian:\n",
        "p = \"11000101\" #@param {type:\"string\"}\n",
        "#@markdown Drugi wielomian:\n",
        "q = \"11000101\" #@param {type:\"string\"}\n",
        "\n",
        "pattern = '^[01]+$'\n",
        "\n",
        "assert re.match(pattern,p) and re.match(pattern,q), \"Rozszerzenie GF(2)!\"\n",
        "assert len(p) == 8 and len(q) == 8, \"Ciało GF(p^8)!\"\n",
        "\n",
        "p = [int(c) for c in p]\n",
        "q = [int(c) for c in q]\n",
        "\n",
        "# Wielomian pierwotny\n",
        "x = symbols('x')\n",
        "wiel_pier = x**8 + x**4 + x**3 + x + 1\n",
        "\n",
        "pol_p = Poly(p, x, domain=GF(2))\n",
        "pol_q = Poly(q, x, domain=GF(2))\n",
        "\n",
        "add_p_q = pol_p + pol_q\n",
        "coeff = add_p_q.all_coeffs()\n",
        "res = [0] * (8 - len(coeff)) + coeff\n",
        "print(f\"Dodawanie/odejmowanie: {p}+{q} = {res}\")\n",
        "\n",
        "_, mul_p_q = div(pol_p*pol_q, wiel_pier, domain=GF(2))\n",
        "coeff = mul_p_q.all_coeffs()\n",
        "res = [0] * (8 - len(coeff)) + coeff\n",
        "print(f\"Mnożenie: {p}*{q} = {res}\")"
      ],
      "metadata": {
        "id": "F6RLDtW6no4I",
        "outputId": "84a57236-f8dd-4b6e-dd1b-4845ea696809",
        "colab": {
          "base_uri": "https://localhost:8080/"
        }
      },
      "execution_count": null,
      "outputs": [
        {
          "output_type": "stream",
          "name": "stdout",
          "text": [
            "Dodawanie/odejmowanie: [1, 1, 0, 0, 0, 1, 0, 1]+[1, 1, 0, 0, 0, 1, 0, 1] = [0, 0, 0, 0, 0, 0, 0, 0]\n",
            "Mnożenie: [1, 1, 0, 0, 0, 1, 0, 1]*[1, 1, 0, 0, 0, 1, 0, 1] = [0, 0, 1, 0, 0, 0, 0, 0]\n"
          ]
        }
      ]
    },
    {
      "cell_type": "markdown",
      "source": [
        "A odwrotność? Trzeba się, podobnie jak w grupie multiplikatywnej, oprzeć na EEA."
      ],
      "metadata": {
        "id": "B4IMJKyjwvSN"
      }
    },
    {
      "cell_type": "code",
      "source": [
        "#@markdown Rozszerzony algorytm Euklidesa i użycie wyniku do znalezienia odwrotności\n",
        "\n",
        "def EEA(a, b):\n",
        "    \"\"\"\n",
        "    Zwraca (g, x, y), takie że: ax + by = g = gcd(a, b)\n",
        "    \"\"\"\n",
        "    if a == 0:\n",
        "        return (b, 0, 1)\n",
        "    else:\n",
        "        g, x, y = EEA(b % a, a)\n",
        "        return (g, y - (b // a) * x, x)\n",
        "\n",
        "def odwr_multiplikatywna(element, modul):\n",
        "    \"\"\"\n",
        "    Zwraca odwrotność multiplikatywną 'elementu' w artymetyce modulo 'modul'\n",
        "    \"\"\"\n",
        "    gcd, x, _ = EEA(element, modul)\n",
        "    if gcd == 1:\n",
        "        return x % modul\n",
        "    else:\n",
        "        raise Exception(f\"{element} nie ma odwrotności {modul}\")"
      ],
      "metadata": {
        "id": "7jA4UYQ7ijF4"
      },
      "execution_count": null,
      "outputs": []
    },
    {
      "cell_type": "code",
      "source": [
        "#@title { run: \"auto\" }\n",
        "#@markdown Policzymy nasz przykład\n",
        "\n",
        "#@markdown Bajt do odwrócenia w $\\mathit{GF}\\left(2^8\\right)$:\n",
        "a = \"00110110\" #@param {type:\"string\"}\n",
        "\n",
        "assert re.match(pattern,a), \"Rozszerzenie GF(2)!\"\n",
        "assert len(a) == 8, \"Ciało GF(p^8)!\"\n",
        "\n",
        "l_a = [int(c) for c in a]\n",
        "\n",
        "x = symbols('x')\n",
        "wiel_pier = Poly(x**8 + x**4 + x**3 + x + 1, x, domain=GF(2))\n",
        "a = Poly(l_a, x, domain=GF(2))\n",
        "\n",
        "try:\n",
        "    a_inv = odwr_multiplikatywna(a, wiel_pier)\n",
        "    _, a_inv_mod = div(a_inv, wiel_pier, domain=GF(2))\n",
        "except Exception as e:\n",
        "    print(e)\n",
        "\n",
        "coeff = a_inv_mod.all_coeffs()\n",
        "res = [0] * (8 - len(coeff)) + coeff\n",
        "print(f\"Odwrotność ({a.expr}) to ({a_inv_mod.expr}), czyli innymi słowy:\\nodwrotność {l_a} to  {res}\")"
      ],
      "metadata": {
        "id": "dTTxLM4Ej8X9",
        "outputId": "dc3fe9c2-1a41-4599-b549-4cbd3923ee21",
        "colab": {
          "base_uri": "https://localhost:8080/"
        }
      },
      "execution_count": null,
      "outputs": [
        {
          "output_type": "stream",
          "name": "stdout",
          "text": [
            "Odwrotność (x**5 + x**4 + x**2 + x) to (x**6 + x**5 + x**2 + x), czyli innymi słowy:\n",
            "odwrotność [0, 0, 1, 1, 0, 1, 1, 0] to  [0, 1, 1, 0, 0, 1, 1, 0]\n"
          ]
        }
      ]
    }
  ]
}