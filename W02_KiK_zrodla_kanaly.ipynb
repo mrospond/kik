{
  "nbformat": 4,
  "nbformat_minor": 0,
  "metadata": {
    "colab": {
      "provenance": [],
      "include_colab_link": true
    },
    "kernelspec": {
      "name": "python3",
      "display_name": "Python 3"
    },
    "language_info": {
      "name": "python"
    }
  },
  "cells": [
    {
      "cell_type": "markdown",
      "metadata": {
        "id": "view-in-github",
        "colab_type": "text"
      },
      "source": [
        "<a href=\"https://colab.research.google.com/github/mrospond/kik/blob/main/W02_KiK_zrodla_kanaly.ipynb\" target=\"_parent\"><img src=\"https://colab.research.google.com/assets/colab-badge.svg\" alt=\"Open In Colab\"/></a>"
      ]
    },
    {
      "cell_type": "code",
      "source": [
        "#@title Potrzebne biblioteki...\n",
        "\n",
        "# Obliczenia matematyczne, dla nas głównie logarytm\n",
        "import math\n",
        "\n",
        "# Generowanie liczb losowych\n",
        "import random\n",
        "\n",
        "# Praca z wektorami i macierzami\n",
        "import numpy as np\n",
        "\n",
        "# Rysowanie standardowych wykresów\n",
        "import matplotlib.pyplot as plt\n",
        "# Obróbka statystyczna przy rysowaniu wykresów i formatowaniu ich wyglądu\n",
        "import seaborn as sns\n",
        "sns.set()\n",
        "\n",
        "# Obliczenia probabilistyczne\n",
        "## Dowolny rozkład dyskretny\n",
        "from scipy.stats import rv_discrete\n",
        "## Entropia Shannona i dywergencja Kullbacka-Leiblera\n",
        "from scipy.stats import entropy\n",
        "## Estymacja jądrowa (ang. kernel density estimation) rozkładu prawdopodobieństwa z próbek\n",
        "from scipy.stats import gaussian_kde\n",
        "\n",
        "# Obsługa plików\n",
        "## Pobieranie\n",
        "import requests\n",
        "## Rozpakowywanie\n",
        "import zipfile\n",
        "\n",
        "# Obróbka języka naturalnego: generowanie n-gramów i rozkładów warunkowych\n",
        "import string\n",
        "## Zliczanie statystyk językowych\n",
        "import nltk\n",
        "from nltk import ConditionalFreqDist"
      ],
      "metadata": {
        "id": "e9_HTJHJfmD2"
      },
      "execution_count": null,
      "outputs": []
    },
    {
      "cell_type": "markdown",
      "source": [
        "# Badanie języka z użyciem entropii"
      ],
      "metadata": {
        "id": "UKAinhr_mZEW"
      }
    },
    {
      "cell_type": "code",
      "source": [
        "#@title Użyjemy korpusu języka angielskiego (przykładowy tekst)\n",
        "#@markdown Alice = Alicja w Krainie Czarów\n",
        "\n",
        "url = 'http://corpus.canterbury.ac.nz/resources/cantrbry.zip'\n",
        "r = requests.get(url, allow_redirects=True)\n",
        "\n",
        "open('cantrbry.zip', 'wb').write(r.content)\n",
        "with zipfile.ZipFile('cantrbry.zip', 'r') as zip_ref:\n",
        "    zip_ref.extractall('cantrbry')\n",
        "\n",
        "with open('cantrbry/alice29.txt', encoding='utf8') as f:\n",
        "    text = f.read()\n",
        "f.close()\n",
        "\n",
        "text = text.upper()\n",
        "print(text[:1000])"
      ],
      "metadata": {
        "id": "wDFvC3Wh38YG",
        "colab": {
          "base_uri": "https://localhost:8080/"
        },
        "outputId": "b58c1de1-c8b6-46d2-b5cb-f8dfe3cb6f0d"
      },
      "execution_count": null,
      "outputs": [
        {
          "output_type": "stream",
          "name": "stdout",
          "text": [
            "\n",
            "\n",
            "\n",
            "\n",
            "                ALICE'S ADVENTURES IN WONDERLAND\n",
            "\n",
            "                          LEWIS CARROLL\n",
            "\n",
            "               THE MILLENNIUM FULCRUM EDITION 2.9\n",
            "\n",
            "\n",
            "\n",
            "\n",
            "                            CHAPTER I\n",
            "\n",
            "                      DOWN THE RABBIT-HOLE\n",
            "\n",
            "\n",
            "  ALICE WAS BEGINNING TO GET VERY TIRED OF SITTING BY HER SISTER\n",
            "ON THE BANK, AND OF HAVING NOTHING TO DO:  ONCE OR TWICE SHE HAD\n",
            "PEEPED INTO THE BOOK HER SISTER WAS READING, BUT IT HAD NO\n",
            "PICTURES OR CONVERSATIONS IN IT, `AND WHAT IS THE USE OF A BOOK,'\n",
            "THOUGHT ALICE `WITHOUT PICTURES OR CONVERSATION?'\n",
            "\n",
            "  SO SHE WAS CONSIDERING IN HER OWN MIND (AS WELL AS SHE COULD,\n",
            "FOR THE HOT DAY MADE HER FEEL VERY SLEEPY AND STUPID), WHETHER\n",
            "THE PLEASURE OF MAKING A DAISY-CHAIN WOULD BE WORTH THE TROUBLE\n",
            "OF GETTING UP AND PICKING THE DAISIES, WHEN SUDDENLY A WHITE\n",
            "RABBIT WITH PINK EYES RAN CLOSE BY HER.\n",
            "\n",
            "  THERE WAS NOTHING SO VERY REMARKABLE IN THAT; NOR DID ALICE\n",
            "THINK IT SO VERY MUCH OUT OF THE WAY TO HEAR THE RABBIT SAY TO\n",
            "ITSELF, `OH DEAR!  OH DEAR!  I SHALL BE LAT\n"
          ]
        }
      ]
    },
    {
      "cell_type": "code",
      "source": [
        "#@markdown Policzymy na tej książce statystkę liter w języku angielskim\n",
        "\n",
        "# Ograniczamy się do liter, bo w tekście występują też jakieś kropki, spacje itd.\n",
        "Vocabulary = list(string.ascii_uppercase) \n",
        "print(Vocabulary)\n",
        "\n",
        "# Słownik częstotliwości występowania liter w języku angielskim\n",
        "freq = dict(zip(Vocabulary,[0 for _ in range(len(Vocabulary))]))\n",
        "how_many = 0\n",
        "\n",
        "for char in text:\n",
        "  if char in freq:\n",
        "    how_many += 1\n",
        "    freq[char] += 1\n",
        "\n",
        "for elem in freq:\n",
        "  freq[elem] /= how_many\n",
        "\n",
        "print(f\"W korpusie Alicja mamy {how_many} liter.\")"
      ],
      "metadata": {
        "id": "gRxqjt3C4Njn",
        "colab": {
          "base_uri": "https://localhost:8080/"
        },
        "outputId": "766fb9d4-2d8a-4138-ee8d-052ac5837544"
      },
      "execution_count": null,
      "outputs": [
        {
          "output_type": "stream",
          "name": "stdout",
          "text": [
            "['A', 'B', 'C', 'D', 'E', 'F', 'G', 'H', 'I', 'J', 'K', 'L', 'M', 'N', 'O', 'P', 'Q', 'R', 'S', 'T', 'U', 'V', 'W', 'X', 'Y', 'Z']\n",
            "W korpusie Alicja mamy 107667 liter.\n"
          ]
        }
      ]
    },
    {
      "cell_type": "code",
      "source": [
        "#@markdown Sprawdźmy, jak wygląda statystyka\n",
        "\n",
        "ile = len(Vocabulary)\n",
        "r = np.arange(ile)\n",
        "szerokosc = 0.45\n",
        "\n",
        "plt.figure(figsize=(10,10))\n",
        "plt.bar(Vocabulary, freq.values(), \n",
        "        width = szerokosc, edgecolor = 'black',\n",
        "        label='Alicja')\n",
        "\n",
        "plt.title('Częstotliwości występowania liter w języku angielskim na podstawie Alicji')\n",
        "plt.xlabel('Litery')\n",
        "plt.xticks(r, Vocabulary)\n",
        "plt.ylabel('Częstotliwości / prawdopodobieństwo')\n",
        "plt.grid(linestyle='--')\n",
        "plt.legend()\n",
        "plt.show()\n",
        "\n",
        "prawdopodobienstwa = list(freq.values())\n",
        "print(f\"Entropia na podstawie Alicji: {entropy(prawdopodobienstwa,base=2)} bitów/literę, \\nprzy potencjalnie maksymalnej entropii dla takiego alfabetu: {math.log2(len(prawdopodobienstwa))} bitów/literę.\")"
      ],
      "metadata": {
        "id": "A9iRv5yI5BCd",
        "colab": {
          "base_uri": "https://localhost:8080/",
          "height": 662
        },
        "outputId": "ec8cd6c9-b3a0-4139-e722-0098b18a1fcc"
      },
      "execution_count": null,
      "outputs": [
        {
          "output_type": "display_data",
          "data": {
            "text/plain": [
              "<Figure size 720x720 with 1 Axes>"
            ],
            "image/png": "[encoded data removed]"
          },
          "metadata": {}
        },
        {
          "output_type": "stream",
          "name": "stdout",
          "text": [
            "Entropia na podstawie Alicji: 4.160930615023794 bitów/literę, \n",
            "przy potencjalnie maksymalnej entropii dla takiego alfabetu: 4.700439718141092 bitów/literę.\n"
          ]
        }
      ]
    },
    {
      "cell_type": "markdown",
      "source": [
        "Widać, że nawet pół bita to może być dosyć dużo!"
      ],
      "metadata": {
        "id": "_E4RcTBU6FBE"
      }
    },
    {
      "cell_type": "markdown",
      "source": [
        "Entropia jest niższa niż dla równomiernego rozkładu częstotliwości liter:\n",
        "*   Co to znaczy?\n",
        "*   Czy można jeszcze dokładniej oszacować entropię języka angielskiego?\n",
        "\n",
        "Swoją drogą, **jak takie dane można wykorzystać w kryptoanalizie**?"
      ],
      "metadata": {
        "id": "iFDhxl-GIMhb"
      }
    },
    {
      "cell_type": "code",
      "source": [
        "#@title { run: \"auto\" }\n",
        "#@markdown Na ile wytworzony rozkład coś nam mówi o języku Alicji?\n",
        "\n",
        "ile = 30 #@param {type: \"slider\", min:10, max:100, step:20}\n",
        "\n",
        "liczby = list(range(len(Vocabulary)))\n",
        "custm = rv_discrete(values=(liczby, prawdopodobienstwa))\n",
        "\n",
        "probka_liczby = custm.rvs(size=ile)\n",
        "alfabet = dict(zip(liczby,Vocabulary))\n",
        "probka = [alfabet[key] for key in probka_liczby]\n",
        "\n",
        "print(''.join(probka))"
      ],
      "metadata": {
        "id": "aASLazE2HkUb",
        "colab": {
          "base_uri": "https://localhost:8080/"
        },
        "outputId": "1807eaee-ef55-4136-da6a-2de556ee7833"
      },
      "execution_count": null,
      "outputs": [
        {
          "output_type": "stream",
          "name": "stdout",
          "text": [
            "IEUIEAISUPEUERDTERNLWCCTHGFATL\n"
          ]
        }
      ]
    },
    {
      "cell_type": "markdown",
      "source": [
        "Co może bardziej przypominać język? Normalnie znamy przecież kontekst (na tym też opiera się NLP z użyciem UM)..."
      ],
      "metadata": {
        "id": "TuvuHUALKGPv"
      }
    },
    {
      "cell_type": "code",
      "source": [
        "#@title Wytworzymy częstotliwości względne dla liter\n",
        "#@markdown * Prawdopodobieństwa warunkowe typu $\\Pr\\{a|b\\}$: jakie jest prawdopodobieństwo, że bo literze $b$ wystąpi litera $a$?\n",
        "#@markdown * Nie będziemy tego już robić na piechotę, wykorzystamy narzędzia do obróbki języka\n",
        "#@markdown * Tokenizacja = wydzielenie podstawowych obiektów językowych (tu akurat: liter), ważne w NLP w przypadku UM\n",
        "#@markdown * Okno przesuwne zbiera nam tzw. $n$-gramy (tutaj $n=2$ generuje bigramy, bo sprawdzamy jakie jest prawdopodobieństwo, że jedna litera wystąpi po drugiej)\n",
        "\n",
        "# Bierzemy tylko litery (tokenizacja na poziomie znaków)\n",
        "filtered_text = [token for token in text if token in Vocabulary]\n",
        "\n",
        "# Obliczamy częstotliwości względne na podstawie bigramów: zestawów po dwie kolejne litery (np. `ba`)\n",
        "cfd = ConditionalFreqDist(nltk.bigrams(filtered_text))\n",
        "\n",
        "print(\"Przykładowe bigramy:\")\n",
        "for n, bigram in enumerate(nltk.bigrams(filtered_text)):\n",
        "  if n >=0 and n<=15:\n",
        "    print(bigram)"
      ],
      "metadata": {
        "id": "znDjhGByKWEk",
        "colab": {
          "base_uri": "https://localhost:8080/"
        },
        "outputId": "607b9284-c59b-4a19-8f2f-c48634441d40"
      },
      "execution_count": null,
      "outputs": [
        {
          "output_type": "stream",
          "name": "stdout",
          "text": [
            "Przykładowe bigramy:\n",
            "('A', 'L')\n",
            "('L', 'I')\n",
            "('I', 'C')\n",
            "('C', 'E')\n",
            "('E', 'S')\n",
            "('S', 'A')\n",
            "('A', 'D')\n",
            "('D', 'V')\n",
            "('V', 'E')\n",
            "('E', 'N')\n",
            "('N', 'T')\n",
            "('T', 'U')\n",
            "('U', 'R')\n",
            "('R', 'E')\n",
            "('E', 'S')\n",
            "('S', 'I')\n"
          ]
        }
      ]
    },
    {
      "cell_type": "code",
      "source": [
        "#@markdown * To jest dużo większa statystyka niż dla pojedynczych liter!\n",
        "#@markdown * Dla pojedynczych liter był wykres (liniowy), tu jest cała tablica (można byłoby zwizualizować na wykresie 3D)\n",
        "\n",
        "print(cfd.tabulate())"
      ],
      "metadata": {
        "id": "iD9oN7h5MeGT",
        "colab": {
          "base_uri": "https://localhost:8080/"
        },
        "outputId": "95c9421b-afed-488b-9946-278005cb9606"
      },
      "execution_count": null,
      "outputs": [
        {
          "output_type": "stream",
          "name": "stdout",
          "text": [
            "     A    B    C    D    E    F    G    H    I    J    K    L    M    N    O    P    Q    R    S    T    U    V    W    X    Y    Z \n",
            "A    9  251  208  477    0   93  203   48  719   15  130 1047  232 1621    6  152    3  729  964 1221   78  201  111    4  260    5 \n",
            "B   81   66    0    1  524    0    0    1  111    7    0  105    1    0  203    0    0   59   27    9  204    0    0    0   75    0 \n",
            "C  317    1   16    0  704    0    0  449   30    0  177   66    0    0  341    0    0  110    1   74  103    0    0    0    8    0 \n",
            "D  542  163   57  120  472   91   86  181  451   15    8  123   60  184  595   47   14  137  340  841  100   48  155    0  100    0 \n",
            "E 1252  240  439 1204  568  265  306  347  383   47  122  608  508 1052  367  285   98 1991 1179 1004   41  230  601  104  314   14 \n",
            "F  195   23   40    7  163  133   12   64  250    1    3   53   25   15  342   12    2   94   52  320  108    6   34    0   46    0 \n",
            "G  385   37   13   26  297   28   23  371  175    4    1   77   27   30  293   19    6  220  151  203   63   15   46    0   17    1 \n",
            "H 1276   11   18   19 3788   14    7   71  838    2    1   14   26    8  613   10    0   83   70  341   60    2   36    0   64    0 \n",
            "I   50   27  638  755  198  166  223   34    9    0  112  348  304 2038  183   21    2  215  642 1359    7   95   50    9    0   26 \n",
            "J    6    0    1    0   20    0    0    0    0    0    0    0    0    0   17    0    0    0    0    0  102    0    0    0    0    0 \n",
            "K   77    7    4    3  366    9    1   17  245    2    1   25    9  147   30    4    1    5   36  118    8    4   16    0   23    0 \n",
            "L  374   37   25  352  745  163   12   35  915    4   61  691   32    8  363   24    1   26  130  161   20   18   49    0  466    1 \n",
            "M  375   73    6    7  585   20    8   15  201    0    1    2   19   29  340   77    2    5   60   58  128    2   20    0   74    0 \n",
            "N  449   57  216 1293  581   64 1156  105  349    7  121  115   35   73  620   16    9   34  292 1052   70   25  124   17  133    0 \n",
            "O  137  122  135  147   68  659   86  174  186    1  218  216  345 1077  492  129   14  699  297  618 1570   95  596   11   47    2 \n",
            "P  166   18    5    4  287    1    0   65  157    0    1  181    3    2  199  115    0   88   42   89   70    4    8    0   17    0 \n",
            "Q    0    0    0    0    0    0    0    1    0    0    0    0    0    0    0    0    0    0    0    0  208    0    0    0    0    0 \n",
            "R  481   37   99  211 1187   75   79  153  474    6   69   95  117  112  421  102   10  100  514  467   88   23  106    3  404    0 \n",
            "S 1004   66   95   36  835   69   55  973  445    9   51  116   89  140  533  123   22   33  433  942  175   33  175    0   43    0 \n",
            "T  682  133  112   94  794   81   51 3666  823   12   23  368  117   51 1255   57   19  196  581  850  234   22  339    0  124    0 \n",
            "U   49   36  199   84  168   14  184   15   88    5   47  349   85  251   17  215    0  522  461  615    1    7   39    0    3   14 \n",
            "V   20    0    0    0  698    0    0    0   60    0    0    0    0    0   62    0    0    0    0    1    1    0    0    0    3    0 \n",
            "W  628    7   10   24  351   12    1  528  406    0    1   41   15  144  282    5    2   35   54   64    6    5   42    0   10    1 \n",
            "X   15    0   13    0   24    0    0    1   25    0    0    0    0    0    4   23    0    0    0   42    0    0    1    0    0    0 \n",
            "Y  209   62   48   67  115   43   35   58  161    9   10   59   58   31  563   86    4   52  169  235   23   10  126    0   31    0 \n",
            "Z    7    0    0    0   31    0    0    0   10    0    0   14    0    0    0    0    0    0    0    0    0    0    0    0    2   14 \n",
            "None\n"
          ]
        }
      ]
    },
    {
      "cell_type": "markdown",
      "source": [
        "W powyższej tabeli: warunki w wierszach - czyli np. E po A występuje bardzo często, ale A po E w ogóle..."
      ],
      "metadata": {
        "id": "E2aJ5iWgi7FU"
      }
    },
    {
      "cell_type": "code",
      "source": [
        "#@title { run: \"auto\" }\n",
        "#@markdown Przerabiamy na rozkład prawdopodobieństwa\n",
        "\n",
        "cpd = nltk.ConditionalProbDist(cfd, nltk.MLEProbDist)\n",
        "\n",
        "#@markdown Wypiszemy dla dwóch liter\n",
        "jedna = \"A\" #@param {type:\"string\"}\n",
        "druga = \"E\" #@param {type:\"string\"}\n",
        "\n",
        "litery = [jedna, druga]\n",
        "\n",
        "for condition in cfd.conditions():\n",
        "  if condition in litery:\n",
        "    print(f\"\\nPo {condition}:\")\n",
        "    for event in cfd[condition]:\n",
        "        probability = cpd[condition].prob(event)\n",
        "        print(f\"\\tnastępuje {event}: {probability:.4f}\")"
      ],
      "metadata": {
        "id": "15JHXm3BOzpH",
        "colab": {
          "base_uri": "https://localhost:8080/"
        },
        "outputId": "d9b9c8ea-8ec8-48ab-9da2-635d29f2ebd0"
      },
      "execution_count": null,
      "outputs": [
        {
          "output_type": "stream",
          "name": "stdout",
          "text": [
            "\n",
            "Po A:\n",
            "\tnastępuje N: 0.1845\n",
            "\tnastępuje T: 0.1390\n",
            "\tnastępuje L: 0.1192\n",
            "\tnastępuje S: 0.1097\n",
            "\tnastępuje R: 0.0830\n",
            "\tnastępuje I: 0.0818\n",
            "\tnastępuje D: 0.0543\n",
            "\tnastępuje Y: 0.0296\n",
            "\tnastępuje B: 0.0286\n",
            "\tnastępuje M: 0.0264\n",
            "\tnastępuje C: 0.0237\n",
            "\tnastępuje G: 0.0231\n",
            "\tnastępuje V: 0.0229\n",
            "\tnastępuje P: 0.0173\n",
            "\tnastępuje K: 0.0148\n",
            "\tnastępuje W: 0.0126\n",
            "\tnastępuje F: 0.0106\n",
            "\tnastępuje U: 0.0089\n",
            "\tnastępuje H: 0.0055\n",
            "\tnastępuje J: 0.0017\n",
            "\tnastępuje A: 0.0010\n",
            "\tnastępuje O: 0.0007\n",
            "\tnastępuje Z: 0.0006\n",
            "\tnastępuje X: 0.0005\n",
            "\tnastępuje Q: 0.0003\n",
            "\n",
            "Po E:\n",
            "\tnastępuje R: 0.1467\n",
            "\tnastępuje A: 0.0923\n",
            "\tnastępuje D: 0.0887\n",
            "\tnastępuje S: 0.0869\n",
            "\tnastępuje N: 0.0775\n",
            "\tnastępuje T: 0.0740\n",
            "\tnastępuje L: 0.0448\n",
            "\tnastępuje W: 0.0443\n",
            "\tnastępuje E: 0.0419\n",
            "\tnastępuje M: 0.0374\n",
            "\tnastępuje C: 0.0324\n",
            "\tnastępuje I: 0.0282\n",
            "\tnastępuje O: 0.0270\n",
            "\tnastępuje H: 0.0256\n",
            "\tnastępuje Y: 0.0231\n",
            "\tnastępuje G: 0.0226\n",
            "\tnastępuje P: 0.0210\n",
            "\tnastępuje F: 0.0195\n",
            "\tnastępuje B: 0.0177\n",
            "\tnastępuje V: 0.0170\n",
            "\tnastępuje K: 0.0090\n",
            "\tnastępuje X: 0.0077\n",
            "\tnastępuje Q: 0.0072\n",
            "\tnastępuje J: 0.0035\n",
            "\tnastępuje U: 0.0030\n",
            "\tnastępuje Z: 0.0010\n"
          ]
        }
      ]
    },
    {
      "cell_type": "code",
      "source": [
        "#@title { run: \"auto\" }\n",
        "#@markdown Próbkujemy dla takiego rozkładu warunkowego\n",
        "\n",
        "# Długość\n",
        "ile = 100 #@param {type:\"integer\"}\n",
        "\n",
        "# Start\n",
        "start_bigram = (\"A\",\"L\")\n",
        "\n",
        "# Wygenerowany tekst\n",
        "generated_text = [start_bigram[0], start_bigram[1]]\n",
        "\n",
        "for i in range(ile):\n",
        "    # poprzednia litera\n",
        "    last = generated_text[-1]\n",
        "    # częstotliwości warunkowane ostatnią literą\n",
        "    bigram_cpd = cpd[last]\n",
        "    # losujemy z takiego prawdopodobieństwa następną literę\n",
        "    next = random.choices(list(bigram_cpd.samples()), weights=list(bigram_cpd.freqdist().values()))[0]\n",
        "    # dodajemy nową literę\n",
        "    generated_text.append(next)\n",
        "\n",
        "generated_text_str = ''.join(generated_text)\n",
        "print(generated_text_str)"
      ],
      "metadata": {
        "id": "zimkm01ic_fX",
        "colab": {
          "base_uri": "https://localhost:8080/"
        },
        "outputId": "2ff93d1f-b125-491d-c083-db5bcf1e0370"
      },
      "execution_count": null,
      "outputs": [
        {
          "output_type": "stream",
          "name": "stdout",
          "text": [
            "ALLYOUSHEDLINECHEDWOCANGOUHTANWASTASOOUMEWINIFSCESLYIRESENFINASAYWHIGTHIEPEQUCRLCOUREYORISHITTSTSMOATHASAMBEHGOWINELLESAITASANOENTHAINTHEENEROSOVEADBEDBBYPLILEJULEYHTTTMBLEOUERSHEXEEDANOWEYOUTHEHESOOOLSHOULEHALIKICERUMUCELENHAITANGHEDSTTYJUISYTHEDOMYITHAISHANISGINGOLSINDTHITHOPLLIGEFSAPEDBOMTHERARLINDINLATHEATTIERMAMUTOFLOALOWIKNDATLONDHICOREORECIEWOINGANICKANOULLKFOOUDSARHEQUCLYGAMAYDWHTECARTAINOUCLESTOUASHEEETTIDTHERFITRTHECEMIRUSWHEYARALEREPPEHYOUNDNETHEQUKETHILLAIFPINSHALINETEVEPAITWADHLINGSITEWENDPIPILOULTYTHEAPICEALITAYITHANSOUTHALTHEETHENCHEDTHASHEMACOUTHTHACOUCREQUTILYSHENDOUTHEDOPEFITOGWOMULITAYMALITHEAICANCONGSTHICRNORHETTTDOUREWHSWECKEYOKIGTSITLINOFONGSOMOMININDTFOINDOULLLAISTHASSALOINDINDNGHAISQUNGIKITHERALTQUNCHEREBOOWOWHEDSANLLERATHELIKISATOSTHTHERLSHEGGODITIETHIMSTHOFUNOURSHANHEWHRMWYORPLITHEWERGTAVEBUPONDOURERECEAYORTHYMAWARUNSINDSTOUSWECOFTHSMULOSCIERESONINATOMBEMETTHEWISOTYBECEYINDOUNKINTJEOOUPOUASANDDENSIOERUNINTUROGTTHTHASARYATHERIDIDHELTHARIRESOUSFYGOTLLLLLAICKESATSE\n"
          ]
        }
      ]
    },
    {
      "cell_type": "code",
      "source": [
        "#@title { run: \"auto\" }\n",
        "#@markdown * A teraz jeszcze dokładniej: statystyki typu $\\Pr\\{a|b,c\\}$\n",
        "#@markdown * Okno przesuwne zbiera nam trigramy (tutaj $n=3$, bo sprawdzamy jakie jest prawdopodobieństwo, że jedna litera wystąpi po dwóch literach)\n",
        "\n",
        "# Długość\n",
        "ile = 100 #@param {type:\"integer\"}\n",
        "\n",
        "trigrams = list(nltk.trigrams(filtered_text))\n",
        "\n",
        "cfd = nltk.ConditionalFreqDist(((w1, w2), w3) for w1, w2, w3 in trigrams)\n",
        "cpd = nltk.ConditionalProbDist(cfd, nltk.MLEProbDist)\n",
        "\n",
        "start_trigram = (\"A\", \"L\", \"I\")\n",
        "generated_text = [start_trigram[0], start_trigram[1], start_trigram[2]]\n",
        "\n",
        "for i in range(ile):\n",
        "    last_two_words = (generated_text[-2], generated_text[-1])\n",
        "    trigram_cpd = cpd[last_two_words]\n",
        "    next_word = trigram_cpd.generate()\n",
        "    generated_text.append(next_word)\n",
        "\n",
        "generated_text_str = ''.join(generated_text)\n",
        "print(generated_text_str)"
      ],
      "metadata": {
        "id": "AgLIejyTeyj8",
        "colab": {
          "base_uri": "https://localhost:8080/"
        },
        "outputId": "471ff990-2a01-4566-b080-85e36c1e34d4"
      },
      "execution_count": null,
      "outputs": [
        {
          "output_type": "stream",
          "name": "stdout",
          "text": [
            "ALITGOFHJUDLYCLEABOUWOLDDERSHURTINKYLOWNOSHEFONTANDHANDTHEWHEMENOTMALOVERSHERTHERPROUTWHADIFANDSAIDORGE\n"
          ]
        }
      ]
    },
    {
      "cell_type": "code",
      "source": [
        "#@title Lepiej jak zachowamy spacje i inne znaki \n",
        "#@markdown Najpierw zbierzemy statystyki, czyli oszacowania:\n",
        "#@markdown * Na podstawie unigramów: $\\Pr\\{.\\}$\n",
        "#@markdown * Na podstawie unigramów: $\\Pr\\{a|.\\}$\n",
        "#@markdown * Na podstawie unigramów: $\\Pr\\{a|b.\\}$\n",
        "\n",
        "unigrams = list(\"\".join(text))\n",
        "bigrams = list(nltk.bigrams(text))\n",
        "trigrams = list(nltk.trigrams(text))\n",
        "\n",
        "freq_dist = nltk.FreqDist(unigrams)\n",
        "total_letters = len(unigrams)\n",
        "probabilities = {letter: freq / total_letters for letter, freq in freq_dist.items()}\n",
        "\n",
        "# print the top 10 most probable letters\n",
        "print(\"Dziesięć najczęstszych znaków:\")\n",
        "for letter, probability in sorted(probabilities.items(), key=lambda x: x[1], reverse=True)[:10]:\n",
        "    print(f\"{letter}: {probability:.3f}\")\n",
        "\n",
        "cfd2 = nltk.ConditionalFreqDist(bigrams)\n",
        "cpd2 = nltk.ConditionalProbDist(cfd2, nltk.MLEProbDist)\n",
        "\n",
        "cfd3 = nltk.ConditionalFreqDist(((w1, w2), w3) for w1, w2, w3 in trigrams)\n",
        "cpd3 = nltk.ConditionalProbDist(cfd3, nltk.MLEProbDist)\n",
        "\n",
        "start_digram = (\"A\", \"L\")\n",
        "start_trigram = (\"A\", \"L\", \"I\")\n",
        "\n",
        "generated_text2 = [start_trigram[0], start_trigram[1]]\n",
        "generated_text3 = [start_trigram[0], start_trigram[1], start_trigram[2]]\n",
        "\n",
        "for i in range(ile):\n",
        "    last_word = (generated_text3[-1])\n",
        "    trigram_cpd2 = cpd2[last_word]\n",
        "    next_word2 = trigram_cpd2.generate()\n",
        "    generated_text2.append(next_word2)\n",
        "\n",
        "    last_two_words = (generated_text3[-2], generated_text3[-1])\n",
        "    trigram_cpd3 = cpd3[last_two_words]\n",
        "    next_word3 = trigram_cpd3.generate()\n",
        "    generated_text3.append(next_word3)"
      ],
      "metadata": {
        "id": "CuJTmn5YfejN",
        "colab": {
          "base_uri": "https://localhost:8080/"
        },
        "outputId": "8a7edf29-3703-490c-c966-c8c37e8e3abf"
      },
      "execution_count": null,
      "outputs": [
        {
          "output_type": "stream",
          "name": "stdout",
          "text": [
            "Dziesięć najczęstszych znaków:\n",
            " : 0.195\n",
            "E: 0.091\n",
            "T: 0.072\n",
            "A: 0.059\n",
            "O: 0.055\n",
            "I: 0.051\n",
            "H: 0.050\n",
            "N: 0.047\n",
            "S: 0.044\n",
            "R: 0.037\n"
          ]
        }
      ]
    },
    {
      "cell_type": "markdown",
      "source": [
        "W Alicji spacja jest najczęstsza, a nie litera `E`..."
      ],
      "metadata": {
        "id": "fh66oznK985o"
      }
    },
    {
      "cell_type": "code",
      "source": [
        "#@title { run: \"auto\" }\n",
        "#@markdown Obejrzymy sobie, na ile sekwencje losowe przypominają język, gdy będziemy próbkować z coraz precyzyjniejszych rozkładów\n",
        "\n",
        "# Długość\n",
        "ile = 48 #@param {type:\"integer\"}\n",
        "\n",
        "generated_text1 = random.choices(list(probabilities.keys()), weights=list(probabilities.values()), k=ile)\n",
        "print(\"=\"*50)\n",
        "print(\"Bezwarunkowo\")\n",
        "print(\"=\"*50)\n",
        "generated_text_str1 = ''.join(generated_text1)\n",
        "print(generated_text_str1)\n",
        "print(\"=\"*50)\n",
        "print(\"=\"*50)\n",
        "print()\n",
        "\n",
        "print(\"=\"*50)\n",
        "print(\"Warunek: jedna litera\")\n",
        "print(\"=\"*50)\n",
        "generated_text_str2 = ''.join(generated_text2)\n",
        "print(generated_text_str2)\n",
        "print(\"=\"*50)\n",
        "print(\"=\"*50)\n",
        "print()\n",
        "\n",
        "print(\"=\"*50)\n",
        "print(\"Warunek: dwie litery\")\n",
        "print(\"=\"*50)\n",
        "generated_text_str3 = ''.join(generated_text3)\n",
        "print(generated_text_str3)"
      ],
      "metadata": {
        "colab": {
          "base_uri": "https://localhost:8080/"
        },
        "id": "nnyuP42e-MR7",
        "outputId": "5dd63a8f-7516-4376-ea89-caefa7abd247"
      },
      "execution_count": null,
      "outputs": [
        {
          "output_type": "stream",
          "name": "stdout",
          "text": [
            "==================================================\n",
            "Bezwarunkowo\n",
            "==================================================\n",
            "TOISER`LNLDE TRL LLT WOOLFEYOF  S  KN H ASTHLUTO\n",
            "==================================================\n",
            "==================================================\n",
            "\n",
            "==================================================\n",
            "Warunek: jedna litera\n",
            "==================================================\n",
            "ALEI, L HAETIFOGTA AEM ;LOOG  INL TI:`USHTYL ,FRL TAIUHC -GI RN T TTIM:RHOTT TU  VE EN    NY'EBTAUPY  \n",
            "==================================================\n",
            "==================================================\n",
            "\n",
            "==================================================\n",
            "Warunek: dwie litery\n",
            "==================================================\n",
            "ALIED AFTER LOW SLE\n",
            "DODY CON THE GULD BUTILL YOULETCHOW THAT WAS SAID TOGS HE OF IT\n",
            "MOURT ALITY WOURE;\n",
            "\n"
          ]
        }
      ]
    },
    {
      "cell_type": "markdown",
      "source": [
        "Oczywiście w NLP tokenizujemy na podstawie słów, a nie liter. Proszę się zastanowić, jak ogromne statystyki musielibyśmy przechowywać, gdybyśmy przetwarzali bezpośrednio prawdopodobieństwa warunkowe!"
      ],
      "metadata": {
        "id": "v5CZwsHRdJVX"
      }
    },
    {
      "cell_type": "markdown",
      "source": [
        "## Jak się te rozkłady prawdopodobieństwa mają do entropii?\n",
        "\n",
        "Im więcej wiemy, tym mniej jesteśmy zaskoczeni! Czyli: entropia jest zrelatywizowana do naszej wiedzy nt. źródła wiadomości."
      ],
      "metadata": {
        "id": "gKW-5-nkbv7o"
      }
    },
    {
      "cell_type": "code",
      "source": [
        "#@markdown Policzymy trzy entropie: bezwarunkową i dwie warunkowe\n",
        "\n",
        "print(f'Entropia BEZWARUNKOWA dla pojedynczych znaków: {entropy(list(probabilities.values()),base=2)} bit/znak.')\n",
        "\n",
        "prawd_pairs = {}\n",
        "entropy2 = 0\n",
        "for condition1 in cfd2.conditions():\n",
        "    p_sum = 0\n",
        "    for event in cfd2[condition1]:\n",
        "        p = cpd2[condition1].prob(event)\n",
        "        prawd_pairs[(condition1,event)] = probabilities[condition1] * p\n",
        "        p_sum += prawd_pairs[(condition1,event)] * math.log2(p)\n",
        "    entropy2 -= p_sum\n",
        "print(f'Entropia WARUNKOWA na podstawie bigramów (warunek: pojedyncza litera): {entropy2} bit/znak.')"
      ],
      "metadata": {
        "id": "GrI139v1b-1l",
        "colab": {
          "base_uri": "https://localhost:8080/"
        },
        "outputId": "c20b4844-0a70-4161-a47d-4382317daa11"
      },
      "execution_count": null,
      "outputs": [
        {
          "output_type": "stream",
          "name": "stdout",
          "text": [
            "Entropia BEZWARUNKOWA dla pojedynczych znaków: 4.339002576245449 bit/znak.\n",
            "Entropia WARUNKOWA na podstawie bigramów (warunek: pojedyncza litera): 3.45133919483068 bit/znak.\n"
          ]
        }
      ]
    },
    {
      "cell_type": "markdown",
      "source": [
        "*   Już pojedynczy warunek wprowadza ogromny spadek entropii (prawie o 1 bit)! Dla rozszerzania warunków o kolejne litery ten spadek wartości nie jest już tak radykalny.\n",
        "*   Dla trigramów jeszcze mniejsza wartość entropii - można policzyć samodzielnie (byleby poprawnie). Przewidziano [bonusy do aktywności](https://upel.agh.edu.pl/mod/assign/view.php?id=112861) za ćwiczenia :)\n",
        "*   Entropia dla pojedynczych znaków jest większa niż dla pojedynczych liter (obliczona wcześniej, przy okazji wykresu częstotliwości). Dlaczego?"
      ],
      "metadata": {
        "id": "Waw7J17hEuwC"
      }
    },
    {
      "cell_type": "markdown",
      "source": [
        "Przy okazji liczenia entropii zebraliśmy sobie też oszacowanie statystyczne prawdopodobieństw łącznych $\\Pr\\{a,b\\}$. Teraz to wykorzystamy."
      ],
      "metadata": {
        "id": "cAEDaLrPDxbC"
      }
    },
    {
      "cell_type": "code",
      "source": [
        "#@markdown Co myśmy tu sobie zebrali...\n",
        "\n",
        "ile_tego = 0\n",
        "sumuje_sie = 0\n",
        "\n",
        "print(\"Przykładowe prawdopodobieństwa dla bigramów: \")\n",
        "for condition1 in cfd2.conditions():\n",
        "    for event in cfd2[condition1]:\n",
        "      pr = prawd_pairs[(condition1,event)]\n",
        "      sumuje_sie += pr\n",
        "      ile_tego += 1\n",
        "      if ile_tego>138 and ile_tego<148:\n",
        "        print(f'Pr({condition1}{event}) = {pr}')\n",
        "\n",
        "print()\n",
        "print(f\"Wartości sumują się do {sumuje_sie}. Co to znaczy?\")\n",
        "print(f\"\\nJest ich w sumie: {ile_tego}. Dlaczego tyle wartości?\")"
      ],
      "metadata": {
        "colab": {
          "base_uri": "https://localhost:8080/"
        },
        "id": "oPeFgrM_EE8C",
        "outputId": "06932d83-e801-44a6-dd9e-21a745d6c78b"
      },
      "execution_count": null,
      "outputs": [
        {
          "output_type": "stream",
          "name": "stdout",
          "text": [
            "Przykładowe prawdopodobieństwa dla bigramów: \n",
            "Pr(IM) = 0.00149514079242462\n",
            "Pr(IR) = 0.001441261844949859\n",
            "Pr(IG) = 0.0014075875027781332\n",
            "Pr(IE) = 0.0012863598709599209\n",
            "Pr(IO) = 0.0011651322391417083\n",
            "Pr(IF) = 0.0010775789494952216\n",
            "Pr(I') = 0.0009092072386365933\n",
            "Pr(IK) = 0.0006532822381314781\n",
            "Pr(IV) = 0.00040409210606070817\n",
            "\n",
            "Wartości sumują się do 0.9999932651315666. Co to znaczy?\n",
            "\n",
            "Jest ich w sumie: 805. Dlaczego tyle wartości?\n"
          ]
        }
      ]
    },
    {
      "cell_type": "code",
      "source": [
        "#@title Entropia łączna (też bezwarunkowa) dla bigramów\n",
        "#@markdown Policzyliśmy już $H(Y)$, $H(X|Y)$, zobaczymy jeszcze entropię łączną (też bezwarunkową) $H(X,Y)$\n",
        "\n",
        "entr_joint = entropy(list(prawd_pairs.values()),base=2)\n",
        "\n",
        "print(f'Entropia ŁĄCZNA dla bigramów: {entr_joint} bit/bigram. Wartość maksymalna mogłaby wynieść: {math.log2(ile_tego)}.')\n",
        "print(f'To znaczy, że gdy patrzymy na sekwencję - entropia na znak: {entr_joint/2} bit/(znak w sekwencji).')"
      ],
      "metadata": {
        "colab": {
          "base_uri": "https://localhost:8080/"
        },
        "id": "gtbgSflm7jAv",
        "outputId": "642a7c33-acb4-4c10-8283-b2b808bedf28"
      },
      "execution_count": null,
      "outputs": [
        {
          "output_type": "stream",
          "name": "stdout",
          "text": [
            "Entropia ŁĄCZNA dla bigramów: 7.79026881669023 bit/bigram. Wartość maksymalna mogłaby wynieść: 9.65284497300198.\n",
            "To znaczy, że gdy patrzymy na sekwencję - entropia na znak: 3.895134408345115 bit/(znak w sekwencji).\n"
          ]
        }
      ]
    },
    {
      "cell_type": "markdown",
      "source": [
        "Można zerknąć na wartości i widać **regułę łańcuchową** dla entropii:\n",
        "\n",
        "$$H(X,Y) = H(Y) + H(X|Y) = H(X) + H(Y|X)$$\n",
        "\n",
        "Tutaj $H(X) = H(Y)$, bo $X$ oraz $Y$ oznacza to samo, czyli rozkład pojedynczych znaków. Oczywiście w wielu przypadkach (np. kanałów transmisyjnych) to są różne zmienne losowe."
      ],
      "metadata": {
        "id": "5TPZ1IjnDcfp"
      }
    },
    {
      "cell_type": "markdown",
      "source": [
        "# Dywergencja Kullbacka-Leiblera"
      ],
      "metadata": {
        "id": "rZYsK6ZUiIQL"
      }
    },
    {
      "cell_type": "code",
      "source": [
        "#@title { run: \"auto\" }\n",
        "\n",
        "loc = 2  #@param {type: \"slider\", min:-5, max:5, step:0.5}\n",
        "scale = 5.2 #@param {type: \"slider\", min:0.1, max:10.1, step:0.1}\n",
        "liczba_punktow = 5000 #@param {type:\"integer\"}\n",
        "\n",
        "sample1 = np.random.normal(0, 1, liczba_punktow)\n",
        "sample2 = np.random.normal(loc, scale, liczba_punktow)\n",
        "\n",
        "pdf1 = gaussian_kde(sample1)\n",
        "pdf2 = gaussian_kde(sample2)\n",
        "\n",
        "x = np.linspace(-10, 10, 100)\n",
        "density1 = pdf1(x)\n",
        "density2 = pdf2(x)\n",
        "\n",
        "eps = 1e-9\n",
        "density1 += eps\n",
        "density2 += eps\n",
        "\n",
        "plt.plot(x, density1, label = 'P = N(0,1)')\n",
        "plt.plot(x, density2, label = f'Q = N({loc},{scale})')\n",
        "plt.title('Dwa rozkłady normalne')\n",
        "plt.xlabel(f'$x$')\n",
        "plt.ylabel(f'Gęstości rozkładów $f(x)$')\n",
        "plt.legend()\n",
        "plt.show()\n",
        "\n",
        "kl_divergence = entropy(pk=density1, qk=density2, base=2)\n",
        "print(f\"D(P/Q) = {kl_divergence}\")"
      ],
      "metadata": {
        "id": "HCLdPMqIjqlI",
        "colab": {
          "base_uri": "https://localhost:8080/",
          "height": 318
        },
        "outputId": "d536d2de-07f5-457c-9d7b-b7578b64a9a3"
      },
      "execution_count": null,
      "outputs": [
        {
          "output_type": "display_data",
          "data": {
            "text/plain": [
              "<Figure size 432x288 with 1 Axes>"
            ],
            "image/png": "[encoded data removed]"
          },
          "metadata": {}
        },
        {
          "output_type": "stream",
          "name": "stdout",
          "text": [
            "D(P/Q) = 1.761367556648817\n"
          ]
        }
      ]
    },
    {
      "cell_type": "markdown",
      "source": [
        "Tutaj liczymy rozbieżność na podstawie estymaty z próbek. Akurat dla rozkładów normalnych można ładnie policzyć $D_{\\text{KL}}(P||Q) = f(\\mu_1,\\mu_2,\\sigma_1,\\sigma_2)$."
      ],
      "metadata": {
        "id": "djb-VLDhjBXM"
      }
    }
  ]
}