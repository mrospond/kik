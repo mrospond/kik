{
  "nbformat": 4,
  "nbformat_minor": 0,
  "metadata": {
    "colab": {
      "provenance": [],
      "include_colab_link": true
    },
    "kernelspec": {
      "name": "python3",
      "display_name": "Python 3"
    },
    "language_info": {
      "name": "python"
    }
  },
  "cells": [
    {
      "cell_type": "markdown",
      "metadata": {
        "id": "view-in-github",
        "colab_type": "text"
      },
      "source": [
        "<a href=\"https://colab.research.google.com/github/mrospond/kik/blob/main/W05_KiK_podstawy_algebraiczne.ipynb\" target=\"_parent\"><img src=\"https://colab.research.google.com/assets/colab-badge.svg\" alt=\"Open In Colab\"/></a>"
      ]
    },
    {
      "cell_type": "code",
      "source": [
        "#@title Potrzebne biblioteki...\n",
        "\n",
        "# Rysowanie standardowych wykresów\n",
        "import matplotlib.pyplot as plt\n",
        "# Obróbka statystyczna przy rysowaniu wykresów i formatowaniu ich wyglądu\n",
        "import seaborn as sns\n",
        "sns.set()\n",
        "\n",
        "# Obliczenia matematyczne, dla nas głównie logarytm\n",
        "import math\n",
        "\n",
        "# Praca z wektorami i macierzami\n",
        "import numpy as np\n",
        "\n",
        "# Eleganckie formatowanie wyświetlanych danych\n",
        "import pprint\n",
        "\n",
        "# Obliczenia symboliczne\n",
        "## Faktoryzacja liczb\n",
        "from sympy import factorint\n",
        "## Sprawdzanie pierwszości\n",
        "from sympy import isprime\n",
        "## Obliczanie funkcji φ Eulera (tocjent)\n",
        "from sympy import totient\n",
        "from sympy import sieve\n",
        "## Pierwiastek pierwotny\n",
        "from sympy import primitive_root\n",
        "\n",
        "# Obliczanie entropii\n",
        "from scipy.stats import entropy\n",
        "\n",
        "# Zliczanie znaków w ciągu\n",
        "from collections import Counter\n",
        "\n",
        "# Zliczanie czasu trwania\n",
        "import time\n",
        "\n",
        "# Generacja liczb losowych\n",
        "import random"
      ],
      "metadata": {
        "id": "e9_HTJHJfmD2"
      },
      "execution_count": null,
      "outputs": []
    },
    {
      "cell_type": "markdown",
      "source": [
        "# Klasy reszt $\\mathbb{Z}_n$"
      ],
      "metadata": {
        "id": "uvZYmn7Rg8b7"
      }
    },
    {
      "cell_type": "code",
      "source": [
        "#@title { run: \"auto\" }\n",
        "#@markdown Grupa addytywna $\\mathbb{Z}_n$\n",
        "\n",
        "#@markdown Rząd grupy $n$:\n",
        "n = 5 #@param {type:\"integer\"}\n",
        "\n",
        "assert n >= 2, \"Wartość minimalna n to dwa!\"\n",
        "\n",
        "print(end='+|\\t')\n",
        "for i in range(n):\n",
        "  print(i, end='\\t')\n",
        "print()\n",
        "print(\"-\"*(n*9))\n",
        "\n",
        "for i in range(n):\n",
        "  print(i, end='|\\t')\n",
        "  for j in range(n):\n",
        "    print((i+j)%n, end='\\t')\n",
        "  print()"
      ],
      "metadata": {
        "id": "a-60Gi6ChBXp",
        "colab": {
          "base_uri": "https://localhost:8080/"
        },
        "outputId": "623fb1f8-5ec4-4a45-a01c-f3cf03a2a27a"
      },
      "execution_count": null,
      "outputs": [
        {
          "output_type": "stream",
          "name": "stdout",
          "text": [
            "+|\t0\t1\t2\t3\t4\t\n",
            "---------------------------------------------\n",
            "0|\t0\t1\t2\t3\t4\t\n",
            "1|\t1\t2\t3\t4\t0\t\n",
            "2|\t2\t3\t4\t0\t1\t\n",
            "3|\t3\t4\t0\t1\t2\t\n",
            "4|\t4\t0\t1\t2\t3\t\n"
          ]
        }
      ]
    },
    {
      "cell_type": "code",
      "source": [
        "#@title { run: \"auto\" }\n",
        "\n",
        "#@markdown Element przeciwny w $\\mathbb{Z}_n$\n",
        "\n",
        "#@markdown Element $k$:\n",
        "k = 2 #@param {type:\"integer\"}\n",
        "\n",
        "k1 = int(k) % n\n",
        "\n",
        "if k1 != k:\n",
        "  print(f\"Element przeciwny do {k} w Z_{n} (czyli do: {k1}) to {-k % n}.\")\n",
        "else:\n",
        "  print(f\"Element przeciwny w Z_{n}: -{k} = {-k % n}.\")"
      ],
      "metadata": {
        "id": "26ykOqNel3Rh",
        "colab": {
          "base_uri": "https://localhost:8080/"
        },
        "outputId": "f7e709ed-ffc2-4c36-fc51-a4eff1e6ec53"
      },
      "execution_count": null,
      "outputs": [
        {
          "output_type": "stream",
          "name": "stdout",
          "text": [
            "Element przeciwny w Z_5: -2 = 3.\n"
          ]
        }
      ]
    },
    {
      "cell_type": "markdown",
      "source": [
        "Jak to jest liczone? Po prostu:\n",
        "\n",
        "$$-a = n-a$$"
      ],
      "metadata": {
        "id": "DfkpOJ8TkyWc"
      }
    },
    {
      "cell_type": "code",
      "source": [
        "#@title { run: \"auto\" }\n",
        "#@markdown Grupa multiplikatywna $\\mathbb{Z}^{\\ast}_p$\n",
        "\n",
        "#@markdown Rząd grupy $n$ (moduł):\n",
        "p = 7 #@param {type:\"integer\"}\n",
        "\n",
        "assert p >= 2 and isprime(p), \"Wartość p musi być liczbą pierwszą\"\n",
        "\n",
        "print(end='*|\\t')\n",
        "for i in range(1,p):\n",
        "  print(i, end='\\t')\n",
        "print()\n",
        "print(\"-\"*(p*9))\n",
        "\n",
        "for i in range(1,p):\n",
        "  print(i, end='|\\t')\n",
        "  for j in range(1,p):\n",
        "    print((i*j)%p, end='\\t')\n",
        "  print()"
      ],
      "metadata": {
        "id": "SMecYXu9i5IK",
        "colab": {
          "base_uri": "https://localhost:8080/"
        },
        "outputId": "e6806331-df64-4280-c19a-9b506c19011f"
      },
      "execution_count": null,
      "outputs": [
        {
          "output_type": "stream",
          "name": "stdout",
          "text": [
            "*|\t1\t2\t3\t4\t5\t6\t\n",
            "---------------------------------------------------------------\n",
            "1|\t1\t2\t3\t4\t5\t6\t\n",
            "2|\t2\t4\t6\t1\t3\t5\t\n",
            "3|\t3\t6\t2\t5\t1\t4\t\n",
            "4|\t4\t1\t5\t2\t6\t3\t\n",
            "5|\t5\t3\t1\t6\t4\t2\t\n",
            "6|\t6\t5\t4\t3\t2\t1\t\n"
          ]
        }
      ]
    },
    {
      "cell_type": "code",
      "source": [
        "#@title { run: \"auto\" }\n",
        "#@markdown Element odwrotny w $\\mathbb{Z}^{\\ast}_p$\n",
        "\n",
        "#@markdown Element $k$:\n",
        "k = 3 #@param {type:\"integer\"}\n",
        "\n",
        "k1 = int(k) % p\n",
        "assert k1 != 0, \"Nie ma elementu odwrotnego do 0\"\n",
        "\n",
        "if k1 != k:\n",
        "  print(f\"Element odwrotny do {k} w Z_{p} (czyli do: {k1}) to {pow(k,-1,p)}.\")\n",
        "else:\n",
        "  print(f\"Element odwrotny do {k} w Z_{p} to: {k}^-1 = {pow(k,-1,p)}.\")"
      ],
      "metadata": {
        "id": "GWWQlmxCkDjg",
        "colab": {
          "base_uri": "https://localhost:8080/"
        },
        "outputId": "8fde3772-563b-4460-fe20-bb40b38aff03"
      },
      "execution_count": null,
      "outputs": [
        {
          "output_type": "stream",
          "name": "stdout",
          "text": [
            "Element odwrotny do 3 w Z_7 to: 3^-1 = 5.\n"
          ]
        }
      ]
    },
    {
      "cell_type": "markdown",
      "source": [
        "Ale jak to jest liczone? A to już nie jest tak trywialne jak w grupie addytywnej..."
      ],
      "metadata": {
        "id": "uEkbsSOLkvIh"
      }
    },
    {
      "cell_type": "markdown",
      "source": [
        "# Rozszerzony algorytm Euklidesa (EEA)\n",
        "\n",
        "Tożsamość Bezouta:\n",
        "\n",
        "$$ax + by = \\mathit{gcd}(a,b)$$\n",
        "\n",
        "Jeśli $a$ i $b$ są względnie pierwsze, tj. $\\mathit{gcd}(a,b) = 1$, to z tej tożsamości możemy odczytywać odwrotności: $x = a^{-1} \\bmod{b}$ oraz $y = b^{-1} \\bmod{a}$.\n",
        "\n",
        "Oczywiście z liczbą pierwszą $p$ każda liczba od niej niemniejsza (tj. $1,\\dots,p-1$) jest względnie pierwsza, dlatego moduł będący liczbą pierwszą gwarantuje, że będziemy mieli odwrotność $\\bmod{p}$."
      ],
      "metadata": {
        "id": "6aQsnSHcfLoo"
      }
    },
    {
      "cell_type": "code",
      "source": [
        "#@title { run: \"auto\" }\n",
        "#@markdown Najpierw zobaczmy, dlaczego algorytm Euklidesa w ogóle jest sprytny...\n",
        "\n",
        "pier = 1255254 #@param {type:\"integer\"}\n",
        "drug = 20900 #@param {type:\"integer\"}\n",
        "\n",
        "#@markdown Używany jest dosyć efektywny (ale ponadwielomianowy) algorytm faktoryzacji $\\rho$ Pollarda\n",
        "\n",
        "start = time.time()\n",
        "s_pier = factorint(pier)\n",
        "s_drug = factorint(drug)\n",
        "stop = time.time()\n",
        "\n",
        "print(\"Metoda z podstawówki:\")\n",
        "print(\"*\"*100)\n",
        "print(f\"Faktoryzacja {pier} = {s_pier}.\")\n",
        "print(f\"Faktoryzacja {drug} = {s_drug}.\")\n",
        "\n",
        "gcd = 1\n",
        "for k in s_pier:\n",
        "  if k in s_drug:\n",
        "    gcd *= k**min(s_pier[k],s_drug[k])\n",
        "\n",
        "print(f\"gcd({pier},{drug}) = {gcd}.\")\n",
        "print(\"*\"*100)\n",
        "print(f\"Faktoryzacja trwała {stop-start}.\")"
      ],
      "metadata": {
        "id": "tH2_Vcyp3QTx",
        "colab": {
          "base_uri": "https://localhost:8080/"
        },
        "outputId": "a017f3ac-1259-4dd9-e060-4c410fed1744"
      },
      "execution_count": null,
      "outputs": [
        {
          "output_type": "stream",
          "name": "stdout",
          "text": [
            "Metoda z podstawówki:\n",
            "****************************************************************************************************\n",
            "Faktoryzacja 1255254 = {2: 1, 3: 1, 7: 1, 11: 2, 13: 1, 19: 1}.\n",
            "Faktoryzacja 20900 = {2: 2, 5: 2, 11: 1, 19: 1}.\n",
            "gcd(1255254,20900) = 418.\n",
            "****************************************************************************************************\n",
            "Faktoryzacja trwała 0.00014281272888183594.\n"
          ]
        }
      ]
    },
    {
      "cell_type": "code",
      "source": [
        "#@markdown * Rozszerzony algorytm Euklidesa (EEA: _Extended Euclidean Algorithm_)\n",
        "#@markdown * Można pokazać, że ma złożoność wielomianową\n",
        "\n",
        "def extended_euclidean(a, b):\n",
        "\n",
        "    if b == 0:\n",
        "        return a, 1, 0\n",
        "\n",
        "    else:\n",
        "        gcd, x1, y1 = extended_euclidean(b, a % b)\n",
        "        x = y1\n",
        "        y = x1 - (a // b) * y1\n",
        "        return gcd, x, y"
      ],
      "metadata": {
        "id": "5hqL5lmQ3kQN"
      },
      "execution_count": null,
      "outputs": []
    },
    {
      "cell_type": "code",
      "source": [
        "#@markdown Ile to trwa?\n",
        "\n",
        "start = time.time()\n",
        "gcd, x, y = extended_euclidean(pier, drug)\n",
        "stop = time.time()\n",
        "\n",
        "print(f\"Obliczenie z EEA trwało: {stop-start}.\")\n",
        "print(f\"gcd({pier},{drug}) = {gcd}.\")"
      ],
      "metadata": {
        "id": "IGhX7noW5_RU",
        "colab": {
          "base_uri": "https://localhost:8080/"
        },
        "outputId": "0b1f5b9a-8c7d-446b-8ba4-cbc3617018e9"
      },
      "execution_count": null,
      "outputs": [
        {
          "output_type": "stream",
          "name": "stdout",
          "text": [
            "Obliczenie z EEA trwało: 6.365776062011719e-05.\n",
            "gcd(1255254,20900) = 418.\n"
          ]
        }
      ]
    },
    {
      "cell_type": "code",
      "source": [
        "#@markdown To oczywiście żaden dowód, zróbmy sobie eksperyment\n",
        "\n",
        "ile = 20\n",
        "min_l = 10e25\n",
        "max_l = 10e30\n",
        "\n",
        "wyn_fact = []\n",
        "wyn_eea = []\n",
        "for _ in range(ile):\n",
        "  pier = random.randint(min_l, max_l)\n",
        "  drug = random.randint(min_l, max_l)\n",
        "  print(pier,drug)\n",
        "\n",
        "  start = time.time()\n",
        "  gcd, x, y = extended_euclidean(pier, drug)\n",
        "  stop = time.time()\n",
        "  wyn_eea.append(stop-start)\n",
        "\n",
        "  start = time.time()\n",
        "  s_pier = factorint(pier)\n",
        "  s_drug = factorint(drug)\n",
        "  stop = time.time()\n",
        "  wyn_fact.append(stop-start)\n",
        "  print(s_pier,s_drug)\n",
        "\n",
        "print(\"*\"*100)\n",
        "print(f\"Średnia dla faktoryzacji = {sum(wyn_fact)/ile}, średnia dla EEA = {sum(wyn_eea)/ile}.\")"
      ],
      "metadata": {
        "id": "0mRF2Ye97S46",
        "colab": {
          "base_uri": "https://localhost:8080/"
        },
        "outputId": "8c6cb9d4-fb57-4022-c9ba-365b781f7ef7"
      },
      "execution_count": null,
      "outputs": [
        {
          "output_type": "stream",
          "name": "stdout",
          "text": [
            "201257733231392609951219212916 1963144873761505291534050875806\n",
            "{2: 2, 3889: 1, 12937627489804101951094061: 1} {2: 1, 3465677: 1, 726367: 1, 389922382273448917: 1}\n",
            "5942303304776045377303580191008 4434373297208036414360232490176\n",
            "{2: 5, 3: 3, 11: 1, 21227: 1, 488879: 1, 60250185062936269: 1} {2: 6, 3: 3, 7: 1, 35407: 1, 2040719: 1, 59981: 1, 84587157547: 1}\n",
            "1124058166015897201655510865559 4538683998280368690236369901422\n",
            "{107: 1, 60497: 1, 173648552900498688767221: 1} {2: 1, 31397: 1, 1256879261237: 1, 57506672319199: 1}\n",
            "1112353925175690232438786529162 1439483481650985889834807270652\n",
            "{2: 1, 37: 1, 16139: 1, 10403831: 1, 89524388129532757: 1} {2: 2, 11: 1, 97: 1, 5303: 1, 443011: 1, 143564194252501433: 1}\n",
            "1130861323046501696702981642359 6798509149477155723816719000618\n",
            "{744361921: 1, 1519235859791518938679: 1} {2: 1, 7: 1, 313: 1, 232090037: 1, 6684744542820144527: 1}\n",
            "8152030795509606082944125721011 5431377431022769123924483301259\n",
            "{11: 1, 179: 1, 4140188316663080793775584419: 1} {3: 1, 59: 1, 34354215293: 1, 893216390948136919: 1}\n",
            "2113051561634399166617531699899 5088874250605828714954368731503\n",
            "{1367: 1, 1545758274787417093355911997: 1} {37: 1, 1231: 1, 111727978804440000767435149: 1}\n",
            "2877425408586947262011648429779 2223594856555206902324088500646\n",
            "{491: 1, 103913: 1, 4170244459: 1, 13523564755507: 1} {2: 1, 3: 2, 52581983503879: 1, 2349341720387693: 1}\n",
            "7148030858121198401495977353772 3669427830526629053609122113402\n",
            "{2: 2, 43: 1, 23971: 1, 1733691499835847773786731: 1} {2: 1, 3: 2, 17: 2, 521: 1, 7451: 1, 527316617: 1, 344591260543: 1}\n",
            "1099655245968531992989066017618 8142746609410882414626218035040\n",
            "{2: 1, 3: 1, 11: 1, 249072561461: 1, 66893932527145093: 1} {2: 5, 5: 1, 117363011: 1, 433630373617612921429: 1}\n",
            "1277780700080619582230378691277 8927344330050912884828179856954\n",
            "{1697: 1, 42925397: 1, 17541234778875983353: 1} {2: 1, 587: 1, 1775909: 1, 1004737099: 1, 4261682021281: 1}\n",
            "7120082830549295902847772111331 3453602961377269544940289561516\n",
            "{11: 1, 64781: 1, 992513: 1, 10067195654845013357: 1} {2: 2, 8758103: 1, 8210179: 1, 12007421124760367: 1}\n",
            "3686136132368811194353670714872 5182116917359347960999240976765\n",
            "{2: 3, 359: 1, 189930281: 1, 6757603774059997121: 1} {5: 1, 41: 1, 1657039: 1, 40468399: 1, 376968093146353: 1}\n",
            "2137333576110079721630365522255 3164496178643069037918554152934\n",
            "{5: 1, 23: 1, 43: 2, 131: 1, 22303: 1, 3440352768454579841: 1} {2: 1, 521: 1, 3036944509254384873242374427: 1}\n",
            "1413232218568989167676658600092 174972935488439887886057519383\n",
            "{2: 2, 3: 1, 73: 1, 109: 1, 5527: 1, 3445737437: 1, 777161503387: 1} {71: 1, 337: 1, 5431: 1, 1346489048795437253159: 1}\n",
            "2292669362014879575447022774618 4572201380352307569657306776417\n",
            "{2: 1, 7: 2, 617: 1, 432882937: 1, 87591047501552029: 1} {141503331251: 1, 32311616552984832667: 1}\n",
            "9045960662162479108762982056799 5357862892598513506919486721152\n",
            "{43: 1, 3623: 1, 55029937: 1, 11579317: 1, 91124665279: 1} {2: 7, 13: 1, 548136261863: 1, 5874213677924411: 1}\n",
            "7073924008350223894803639303295 87183534209131039270901031038\n",
            "{5: 1, 19: 1, 269: 1, 1063: 1, 7717: 1, 3720375779: 1, 9070180541: 1} {2: 1, 991: 1, 2203: 1, 588154358059: 1, 33948845017: 1}\n",
            "6383322047830465648521687599331 9790094221126071011740804466768\n",
            "{3: 1, 59: 1, 36063966371923534737410664403: 1} {2: 4, 7: 1, 41: 1, 107: 1, 143527: 1, 2962621: 1, 46858837502291: 1}\n",
            "616357787050703450567880667399 6037276747924773743959768870681\n",
            "{7: 1, 37: 1, 2379759795562561585204172461: 1} {977: 1, 1093: 1, 12347: 1, 2772542897: 1, 165153064319: 1}\n",
            "****************************************************************************************************\n",
            "Średnia dla faktoryzacji = 0.5501025557518006, średnia dla EEA = 4.4965744018554686e-05.\n"
          ]
        }
      ]
    },
    {
      "cell_type": "markdown",
      "source": [
        "To oczywiście dalej nie jest dowód :) ale mamy odpowiednie analizy złożoności..."
      ],
      "metadata": {
        "id": "EG5_CNMkmiJj"
      }
    },
    {
      "cell_type": "code",
      "source": [
        "#@title { run: \"auto\" }\n",
        "#@markdown Zobaczmy EEA w działaniu\n",
        "\n",
        "a = 12345 #@param {type:\"integer\"}\n",
        "b = 11111 #@param {type:\"integer\"}\n",
        "\n",
        "assert a>0 and b>0, \"Wartości mają być nieujemne!\"\n",
        "\n",
        "gcd, x, y = extended_euclidean(a, b)\n",
        "\n",
        "print(f\"Tożsamość Bezout: {a}*{x} + {b}*{y} = {gcd}\")\n",
        "\n",
        "if a>b:\n",
        "  a, x, b, y = b, y, a, x\n",
        "\n",
        "if gcd == 1:\n",
        "  x1 = x % b\n",
        "  dodatek = f\", czyli {x} mod {b}\" if x1 != x else \"\"\n",
        "  print(f\"Zatem odwrotność {a} w Z_{b} równa się: {x1}{dodatek}.\")\n",
        "  print(f\"Jest tak ponieważ {a}*{x1} = {a*x1}, natomiast {a*x1} mod {b} = {(a*x1)%b}.\")"
      ],
      "metadata": {
        "id": "dA73aaHa3wPF",
        "colab": {
          "base_uri": "https://localhost:8080/"
        },
        "outputId": "257833c9-8e56-45c1-888b-39ad0a43e370"
      },
      "execution_count": null,
      "outputs": [
        {
          "output_type": "stream",
          "name": "stdout",
          "text": [
            "Tożsamość Bezout: 12345*-2224 + 11111*2471 = 1\n",
            "Zatem odwrotność 11111 w Z_12345 równa się: 2471.\n",
            "Jest tak ponieważ 11111*2471 = 27455281, natomiast 27455281 mod 12345 = 1.\n"
          ]
        }
      ]
    },
    {
      "cell_type": "markdown",
      "source": [
        "Algorytm EEA uogólnia się do całkiem egzotycznych tworów, np. wielomianów, elementów ciał Galois $\\mathit{G}(p^m)$... One nas będą interesować w kontekście kodowania i kryptografii."
      ],
      "metadata": {
        "id": "aSlEJVUS32fh"
      }
    },
    {
      "cell_type": "code",
      "source": [
        "#@title { run: \"auto\" }\n",
        "#@markdown Zobaczmy odwrotności w $\\mathbb{Z}^{\\ast}_n$\n",
        "\n",
        "#@markdown Rząd grupy $n$ (moduł):\n",
        "n = 19 #@param {type:\"integer\"}\n",
        "\n",
        "assert n >= 2 and isprime(n), \"Wartość n musi być liczbą pierwszą\"\n",
        "\n",
        "wartosci = []\n",
        "for i in range(1,n):\n",
        "  gcd, x, y = extended_euclidean(i, n)\n",
        "  odwr = x % n\n",
        "  print(f\"{i}^-1 mod {n} = {odwr}\")\n",
        "  wartosci.append(odwr)"
      ],
      "metadata": {
        "id": "uKfp9MbI9y4_",
        "colab": {
          "base_uri": "https://localhost:8080/"
        },
        "outputId": "0082424c-ecc0-427b-deb5-db0fb379dc92"
      },
      "execution_count": null,
      "outputs": [
        {
          "output_type": "stream",
          "name": "stdout",
          "text": [
            "1^-1 mod 19 = 1\n",
            "2^-1 mod 19 = 10\n",
            "3^-1 mod 19 = 13\n",
            "4^-1 mod 19 = 5\n",
            "5^-1 mod 19 = 4\n",
            "6^-1 mod 19 = 16\n",
            "7^-1 mod 19 = 11\n",
            "8^-1 mod 19 = 12\n",
            "9^-1 mod 19 = 17\n",
            "10^-1 mod 19 = 2\n",
            "11^-1 mod 19 = 7\n",
            "12^-1 mod 19 = 8\n",
            "13^-1 mod 19 = 3\n",
            "14^-1 mod 19 = 15\n",
            "15^-1 mod 19 = 14\n",
            "16^-1 mod 19 = 6\n",
            "17^-1 mod 19 = 9\n",
            "18^-1 mod 19 = 18\n"
          ]
        }
      ]
    },
    {
      "cell_type": "markdown",
      "source": [
        "Widać, że jako ciąg wartości występuje tu pewna nieprzewidywalność (jak ją skwantyfikować?). Ten efekt jest jeszcze mocniejszy w przypadku odwrotności w ciele $\\mathit{G}(p^m)$, co ma zastosowanie w algorytmie AES."
      ],
      "metadata": {
        "id": "SVLOcazf_hdg"
      }
    },
    {
      "cell_type": "code",
      "source": [
        "#@markdown Entropia ciągu odwrotności\n",
        "\n",
        "print(\"Odwrotności: \", wartosci)\n",
        "roznice = [wartosci[n]-wartosci[n-1] for n in range(1,len(wartosci))]\n",
        "print(\"Różnice w ciągu odwrotności: \", roznice)\n",
        "\n",
        "ile = Counter(roznice)\n",
        "razem = sum(ile.values())\n",
        "rozklad = {k: v/razem for k, v in ile.items()}\n",
        "print(f\"Rozkład: {rozklad}\")\n",
        "\n",
        "print(f\"Entropia: {entropy(list(rozklad.values()),base=2)} bit.\")"
      ],
      "metadata": {
        "id": "eSm0n32y__Hq",
        "colab": {
          "base_uri": "https://localhost:8080/"
        },
        "outputId": "8f530563-ab1f-4a8e-8364-7e67ffffa454"
      },
      "execution_count": null,
      "outputs": [
        {
          "output_type": "stream",
          "name": "stdout",
          "text": [
            "Odwrotności:  [1, 10, 13, 5, 4, 16, 11, 12, 17, 2, 7, 8, 3, 15, 14, 6, 9, 18]\n",
            "Różnice w ciągu odwrotności:  [9, 3, -8, -1, 12, -5, 1, 5, -15, 5, 1, -5, 12, -1, -8, 3, 9]\n",
            "Rozkład: {9: 0.11764705882352941, 3: 0.11764705882352941, -8: 0.11764705882352941, -1: 0.11764705882352941, 12: 0.11764705882352941, -5: 0.11764705882352941, 1: 0.11764705882352941, 5: 0.11764705882352941, -15: 0.058823529411764705}\n",
            "Entropia: 3.146286370662104 bit.\n"
          ]
        }
      ]
    },
    {
      "cell_type": "markdown",
      "source": [
        "# Grupy cykliczne\n",
        "\n",
        "$\\mathbb{Z}_n$ jest grupą cykliczną (co najmniej w sposób trywialny $\\langle{1}\\rangle = \\mathbb{Z}_n$). Ale zobaczmy też na inne opcje:"
      ],
      "metadata": {
        "id": "3-u-PTtm6pi7"
      }
    },
    {
      "cell_type": "code",
      "source": [
        "#@title { run: \"auto\" }\n",
        "#@markdown $\\mathbb{Z}_n$ jako grupa cykliczna i rząd elementu w grupie...\n",
        "\n",
        "#@markdown Rząd grupy $n$ (moduł):\n",
        "n = 5 #@param {type:\"integer\"}\n",
        "\n",
        "#@markdown Element $a$:\n",
        "a = 3 #@param {type:\"integer\"}\n",
        "\n",
        "a = a % n\n",
        "\n",
        "wyn = 0\n",
        "rzad = 0\n",
        "rzad_flaga = True\n",
        "print(f\"a = {a}\")\n",
        "print(\"-\"*2*n)\n",
        "for i in range(n+5):\n",
        "  if i>0 and wyn==0 and rzad_flaga:\n",
        "    rzad_flaga = False\n",
        "    rzad=i\n",
        "  print(f\"{i}a = {wyn}\")\n",
        "  wyn = (wyn+a) % n\n",
        "\n",
        "print(\"-\"*2*n)\n",
        "if rzad<n:\n",
        "  print(f\"Rząd elementu {a} w podgrupie <{a}> to {rzad}.\")\n",
        "else:\n",
        "  print(f\"Rząd elementu {a} w grupie Z_{n} to {rzad}.\")"
      ],
      "metadata": {
        "id": "HNfkCpnS7GGQ",
        "colab": {
          "base_uri": "https://localhost:8080/"
        },
        "outputId": "1e6b90ed-b028-4c52-d0fa-b12839edc993"
      },
      "execution_count": null,
      "outputs": [
        {
          "output_type": "stream",
          "name": "stdout",
          "text": [
            "a = 3\n",
            "----------\n",
            "0a = 0\n",
            "1a = 3\n",
            "2a = 1\n",
            "3a = 4\n",
            "4a = 2\n",
            "5a = 0\n",
            "6a = 3\n",
            "7a = 1\n",
            "8a = 4\n",
            "9a = 2\n",
            "----------\n",
            "Rząd elementu 3 w grupie Z_5 to 5.\n"
          ]
        }
      ]
    },
    {
      "cell_type": "code",
      "source": [
        "#@title { run: \"auto\" }\n",
        "#@markdown $\\mathbb{Z}^{*}_p$ jako grupa cykliczna i rząd elementu w grupie...\n",
        "\n",
        "#@markdown Rząd grupy $p-1$ ($p$: moduł):\n",
        "p = 7 #@param {type:\"integer\"}\n",
        "assert p >= 2 and isprime(p), \"Wartość p musi być liczbą pierwszą\"\n",
        "\n",
        "#@markdown Element $a$:\n",
        "a = 3 #@param {type:\"integer\"}\n",
        "a = a % p\n",
        "assert a > 0, \"0 nie należy do grupy Z*_p\"\n",
        "\n",
        "wyn = 1\n",
        "rzad = 1\n",
        "rzad_flaga = True\n",
        "print(f\"a = {a}\")\n",
        "print(\"-\"*2*p)\n",
        "for i in range(p+5):\n",
        "  if i>0 and wyn==1 and rzad_flaga:\n",
        "    rzad_flaga = False\n",
        "    rzad=i   \n",
        "  print(f\"a^{i} = {wyn}\")\n",
        "  wyn = (wyn*a) % p\n",
        "\n",
        "print(\"-\"*2*p)\n",
        "if rzad<(n-1):\n",
        "  print(f\"Rząd elementu {a} w podgrupie <{a}> to {rzad}.\")\n",
        "else:\n",
        "  print(f\"Rząd elementu {a} w grupie Z*_{n} to {rzad}.\")"
      ],
      "metadata": {
        "id": "5U7Q-sXs8DlK",
        "colab": {
          "base_uri": "https://localhost:8080/"
        },
        "outputId": "8935b284-5277-4f60-d0e4-f3f1ec481a7b"
      },
      "execution_count": null,
      "outputs": [
        {
          "output_type": "stream",
          "name": "stdout",
          "text": [
            "a = 3\n",
            "--------------\n",
            "a^0 = 1\n",
            "a^1 = 3\n",
            "a^2 = 2\n",
            "a^3 = 6\n",
            "a^4 = 4\n",
            "a^5 = 5\n",
            "a^6 = 1\n",
            "a^7 = 3\n",
            "a^8 = 2\n",
            "a^9 = 6\n",
            "a^10 = 4\n",
            "a^11 = 5\n",
            "--------------\n",
            "Rząd elementu 3 w grupie Z*_5 to 6.\n"
          ]
        }
      ]
    },
    {
      "cell_type": "code",
      "source": [
        "#@title { run: \"auto\" }\n",
        "#@markdown Grupa multiplikatywna $\\mathbb{Z}^{*}_n$ i jej pierwiastek pierwotny\n",
        "\n",
        "#@markdown Moduł grupy $n$:\n",
        "n = 7 #@param {type:\"integer\"}\n",
        "assert n >= 2, \"Wartość n musi być większa od 1\"\n",
        "\n",
        "print(f\"Grupa multiplikatywna Z*_{n}:\")\n",
        "\n",
        "grupa_mult_n = []\n",
        "for i in range(1,n):\n",
        "  if math.gcd(i,n) == 1:\n",
        "    grupa_mult_n.append(i)\n",
        "print(f\"{grupa_mult_n} o rzędzie {len(grupa_mult_n)}.\")\n",
        "phi = totient(n)\n",
        "print(f\"Tocjent: φ({n}) = {phi}.\\n\")\n",
        "\n",
        "a = primitive_root(n)\n",
        "print(f\"Pierwiastek pierwotny tej grupy to {a}:\")\n",
        "wyn = 1\n",
        "for i in range(phi):\n",
        "  print(f\"a^{i} = {wyn}\")\n",
        "  wyn = (wyn*a) % n\n",
        "\n",
        "if a>2:\n",
        "  print(f\"\\nNie ma mniejszych pierwiastków pierwotnych, np. dla 2:\")\n",
        "  wyn = 1\n",
        "  for i in range(phi):\n",
        "    print(f\"2^{i} = {wyn}\")\n",
        "    wyn = (wyn*2) % n"
      ],
      "metadata": {
        "id": "v03JTQJh-iDT",
        "colab": {
          "base_uri": "https://localhost:8080/"
        },
        "outputId": "d86f6acc-7f3d-4c45-9790-b7f414e6fa50"
      },
      "execution_count": null,
      "outputs": [
        {
          "output_type": "stream",
          "name": "stdout",
          "text": [
            "Grupa multiplikatywna Z*_7:\n",
            "[1, 2, 3, 4, 5, 6] o rzędzie 6.\n",
            "Tocjent: φ(7) = 6.\n",
            "\n",
            "Pierwiastek pierwotny tej grupy to 3:\n",
            "a^0 = 1\n",
            "a^1 = 3\n",
            "a^2 = 2\n",
            "a^3 = 6\n",
            "a^4 = 4\n",
            "a^5 = 5\n",
            "\n",
            "Nie ma mniejszych pierwiastków pierwotnych, np. dla 2:\n",
            "2^0 = 1\n",
            "2^1 = 2\n",
            "2^2 = 4\n",
            "2^3 = 1\n",
            "2^4 = 2\n",
            "2^5 = 4\n"
          ]
        }
      ]
    },
    {
      "cell_type": "code",
      "source": [
        "#@title Tocjent\n",
        "\n",
        "x_min = 2\n",
        "x_max = 1000\n",
        "x = list(range(x_min,x_max))\n",
        "y = [i for i in sieve.totientrange(x_min,x_max)]\n",
        "\n",
        "plt.figure()\n",
        "plt.scatter(x,y,s=3)\n",
        "plt.title(\"Tocjent\")\n",
        "plt.xlabel(f\"$n$\")\n",
        "plt.ylabel(f\"$\\phi(n)$\")\n",
        "plt.savefig(\"tocjent.png\")\n",
        "plt.show()"
      ],
      "metadata": {
        "id": "IOLghbTyJPiQ",
        "colab": {
          "base_uri": "https://localhost:8080/",
          "height": 480
        },
        "outputId": "4995048c-a33d-4c09-e609-24c62532822b"
      },
      "execution_count": null,
      "outputs": [
        {
          "output_type": "display_data",
          "data": {
            "text/plain": [
              "<Figure size 640x480 with 1 Axes>"
            ],
            "image/png": "[encoded data removed]"
          },
          "metadata": {}
        }
      ]
    },
    {
      "cell_type": "markdown",
      "source": [
        "Skąd te \"paski\"?"
      ],
      "metadata": {
        "id": "R8TSEzrlNooR"
      }
    },
    {
      "cell_type": "markdown",
      "source": [
        "# Rozkład grupy na warstwy względem podgrupy"
      ],
      "metadata": {
        "id": "g4Q4bb1H28Db"
      }
    },
    {
      "cell_type": "code",
      "source": [
        "#@markdown Grupa addytywna $G = \\mathbb{Z}$\n",
        "\n",
        "zakres_min = -20\n",
        "zakres_max = 20\n",
        "\n",
        "grupa_Z = list(range(zakres_min,zakres_max+1))\n",
        "\n",
        "print(\"Grupa: \",end=\"..., \")\n",
        "for i in grupa_Z:\n",
        "  print(f\"{i}, \",end=\"\")\n",
        "print(\"...\")\n",
        "print(\"*\"*200)"
      ],
      "metadata": {
        "id": "Y1HfjTSz3AY-",
        "colab": {
          "base_uri": "https://localhost:8080/"
        },
        "outputId": "9f36d4a7-9e22-48fc-bffd-6c19402ef85b"
      },
      "execution_count": null,
      "outputs": [
        {
          "output_type": "stream",
          "name": "stdout",
          "text": [
            "Grupa: ..., -20, -19, -18, -17, -16, -15, -14, -13, -12, -11, -10, -9, -8, -7, -6, -5, -4, -3, -2, -1, 0, 1, 2, 3, 4, 5, 6, 7, 8, 9, 10, 11, 12, 13, 14, 15, 16, 17, 18, 19, 20, ...\n",
            "********************************************************************************************************************************************************************************************************\n"
          ]
        }
      ]
    },
    {
      "cell_type": "markdown",
      "source": [
        "Element neutralny, element przeciwny do $a$?"
      ],
      "metadata": {
        "id": "pcH1Ra_B3wDU"
      }
    },
    {
      "cell_type": "code",
      "source": [
        "#@markdown Podgrupa $H = n\\mathbb{Z}$\n",
        "\n",
        "n = 3 #@param {type: \"slider\", min:2, max:9, step:1}\n",
        "\n",
        "podgrupa_n = list(range(zakres_min*n,zakres_max*n+1,n))\n",
        "\n",
        "print(\"Podgrupa: \",end=\"..., \")\n",
        "for i in podgrupa_n:\n",
        "  print(f\"{i}, \",end=\"\")\n",
        "print(\"...\")\n",
        "print(\"*\"*200)"
      ],
      "metadata": {
        "id": "oI2ifre_30Yg",
        "colab": {
          "base_uri": "https://localhost:8080/"
        },
        "outputId": "9a8e5e26-8365-4c08-ce2e-13168a97025c"
      },
      "execution_count": null,
      "outputs": [
        {
          "output_type": "stream",
          "name": "stdout",
          "text": [
            "Podgrupa: ..., -60, -57, -54, -51, -48, -45, -42, -39, -36, -33, -30, -27, -24, -21, -18, -15, -12, -9, -6, -3, 0, 3, 6, 9, 12, 15, 18, 21, 24, 27, 30, 33, 36, 39, 42, 45, 48, 51, 54, 57, 60, ...\n",
            "********************************************************************************************************************************************************************************************************\n"
          ]
        }
      ]
    },
    {
      "cell_type": "markdown",
      "source": [
        "Jest element neutralny i element przeciwny do każdego elementu w podgrupie?"
      ],
      "metadata": {
        "id": "Z-E6ZTWR4W0o"
      }
    },
    {
      "cell_type": "code",
      "source": [
        "#@title { run: \"auto\" }\n",
        "#@markdown Przykład podwarstwy $g+H$, gdzie $g \\in G$ (tj. $g + n\\mathbb{Z}$, $g \\in \\mathbb{Z}$)\n",
        "\n",
        "g = 7 #@param {type: \"slider\", min:-20, max:20, step:1}\n",
        "\n",
        "warstwa = [g + el for el in podgrupa_n]\n",
        "\n",
        "print(f\"Warstwa wyznaczona przez {g}: \",end=\"..., \")\n",
        "for i in warstwa:\n",
        "  print(f\"{i}, \",end=\"\")\n",
        "print(\"...\")\n",
        "print(\"*\"*200)"
      ],
      "metadata": {
        "id": "LaXGWZWD4dxY",
        "colab": {
          "base_uri": "https://localhost:8080/"
        },
        "outputId": "31cc0d68-2e3e-4241-89b6-87c56b4dec4f"
      },
      "execution_count": null,
      "outputs": [
        {
          "output_type": "stream",
          "name": "stdout",
          "text": [
            "Warstwa wyznaczona przez 7: ..., -53, -50, -47, -44, -41, -38, -35, -32, -29, -26, -23, -20, -17, -14, -11, -8, -5, -2, 1, 4, 7, 10, 13, 16, 19, 22, 25, 28, 31, 34, 37, 40, 43, 46, 49, 52, 55, 58, 61, 64, 67, ...\n",
            "********************************************************************************************************************************************************************************************************\n"
          ]
        }
      ]
    },
    {
      "cell_type": "markdown",
      "source": [
        "Czy każda warstwa tworzy grupę?"
      ],
      "metadata": {
        "id": "J86aDTK55XDR"
      }
    },
    {
      "cell_type": "code",
      "source": [
        "#@markdown Różne warstwy:\n",
        "\n",
        "for g in range(n+2):\n",
        "  warstwa = [g + el for el in podgrupa_n]\n",
        "  print(f\"Warstwa wyznaczona przez {g}: \",end=\"..., \")\n",
        "  for i in warstwa:\n",
        "    print(f\"{i}, \",end=\"\")\n",
        "  print(\"...\")\n",
        "  print(\"*\"*200)"
      ],
      "metadata": {
        "id": "4_orWE9r5bmR",
        "colab": {
          "base_uri": "https://localhost:8080/"
        },
        "outputId": "0427bcc1-ce1e-4d71-8e07-040accf2e539"
      },
      "execution_count": null,
      "outputs": [
        {
          "output_type": "stream",
          "name": "stdout",
          "text": [
            "Warstwa wyznaczona przez 0: ..., -60, -57, -54, -51, -48, -45, -42, -39, -36, -33, -30, -27, -24, -21, -18, -15, -12, -9, -6, -3, 0, 3, 6, 9, 12, 15, 18, 21, 24, 27, 30, 33, 36, 39, 42, 45, 48, 51, 54, 57, 60, ...\n",
            "********************************************************************************************************************************************************************************************************\n",
            "Warstwa wyznaczona przez 1: ..., -59, -56, -53, -50, -47, -44, -41, -38, -35, -32, -29, -26, -23, -20, -17, -14, -11, -8, -5, -2, 1, 4, 7, 10, 13, 16, 19, 22, 25, 28, 31, 34, 37, 40, 43, 46, 49, 52, 55, 58, 61, ...\n",
            "********************************************************************************************************************************************************************************************************\n",
            "Warstwa wyznaczona przez 2: ..., -58, -55, -52, -49, -46, -43, -40, -37, -34, -31, -28, -25, -22, -19, -16, -13, -10, -7, -4, -1, 2, 5, 8, 11, 14, 17, 20, 23, 26, 29, 32, 35, 38, 41, 44, 47, 50, 53, 56, 59, 62, ...\n",
            "********************************************************************************************************************************************************************************************************\n",
            "Warstwa wyznaczona przez 3: ..., -57, -54, -51, -48, -45, -42, -39, -36, -33, -30, -27, -24, -21, -18, -15, -12, -9, -6, -3, 0, 3, 6, 9, 12, 15, 18, 21, 24, 27, 30, 33, 36, 39, 42, 45, 48, 51, 54, 57, 60, 63, ...\n",
            "********************************************************************************************************************************************************************************************************\n",
            "Warstwa wyznaczona przez 4: ..., -56, -53, -50, -47, -44, -41, -38, -35, -32, -29, -26, -23, -20, -17, -14, -11, -8, -5, -2, 1, 4, 7, 10, 13, 16, 19, 22, 25, 28, 31, 34, 37, 40, 43, 46, 49, 52, 55, 58, 61, 64, ...\n",
            "********************************************************************************************************************************************************************************************************\n"
          ]
        }
      ]
    },
    {
      "cell_type": "markdown",
      "source": [
        "Widzimy, że $g_1 + n\\mathbb{Z} = g_2 + n\\mathbb{Z}$, o ile tylko $g_1 = g_2 \\bmod{n}$.\n",
        "\n",
        "Wszystkich różnych podwarstw jest tylko tyle, ile wynosi $n$. Warstwy są rozłączne."
      ],
      "metadata": {
        "id": "IV_pg0Iq5w3S"
      }
    },
    {
      "cell_type": "code",
      "source": [
        "#@title { run: \"auto\" }\n",
        "#@markdown Można też dodawać warstwy, bo one tworzą tzw. grupę ilorazową $[G/H]$, która jest izomorficzna z grupą $\\mathbb{Z}_n$\n",
        "\n",
        "g1 = 5 #@param {type: \"slider\", min:-20, max:20, step:1}\n",
        "g2 = 7 #@param {type: \"slider\", min:-20, max:20, step:1}\n",
        "\n",
        "gg = [g1,g2,g1+g2]\n",
        "\n",
        "warstwa = {}\n",
        "for g in gg:\n",
        "  warstwa[g] = [g + el for el in podgrupa_n]\n",
        "  print(f\"Warstwa wyznaczona przez {g} (= {g%n} mod-n): \",end=\"..., \")\n",
        "  for i in warstwa[g]:\n",
        "    print(f\"{i}, \",end=\"\")\n",
        "  print(\"...\")\n",
        "  print(\"*\"*200)\n",
        "\n",
        "print(f\"Wynik dodawania warstwy wyznaczonej przez {g1} i warstwy wyznaczonej przez {g2}:\")\n",
        "print(end=\"..., \")\n",
        "for i in range(len(podgrupa_n)):\n",
        "    print(f\"{warstwa[g1][i]+warstwa[g2][i]}, \",end=\"\")\n",
        "print(\"...\")"
      ],
      "metadata": {
        "id": "f3MI22EB6Ml9",
        "colab": {
          "base_uri": "https://localhost:8080/"
        },
        "outputId": "ff16bb1d-3ae2-42a1-f60d-19f255a70cce"
      },
      "execution_count": null,
      "outputs": [
        {
          "output_type": "stream",
          "name": "stdout",
          "text": [
            "Warstwa wyznaczona przez 5 (= 2 mod-n): ..., -55, -52, -49, -46, -43, -40, -37, -34, -31, -28, -25, -22, -19, -16, -13, -10, -7, -4, -1, 2, 5, 8, 11, 14, 17, 20, 23, 26, 29, 32, 35, 38, 41, 44, 47, 50, 53, 56, 59, 62, 65, ...\n",
            "********************************************************************************************************************************************************************************************************\n",
            "Warstwa wyznaczona przez 7 (= 1 mod-n): ..., -53, -50, -47, -44, -41, -38, -35, -32, -29, -26, -23, -20, -17, -14, -11, -8, -5, -2, 1, 4, 7, 10, 13, 16, 19, 22, 25, 28, 31, 34, 37, 40, 43, 46, 49, 52, 55, 58, 61, 64, 67, ...\n",
            "********************************************************************************************************************************************************************************************************\n",
            "Warstwa wyznaczona przez 12 (= 0 mod-n): ..., -48, -45, -42, -39, -36, -33, -30, -27, -24, -21, -18, -15, -12, -9, -6, -3, 0, 3, 6, 9, 12, 15, 18, 21, 24, 27, 30, 33, 36, 39, 42, 45, 48, 51, 54, 57, 60, 63, 66, 69, 72, ...\n",
            "********************************************************************************************************************************************************************************************************\n",
            "Wynik dodawania warstwy wyznaczonej przez 5 i warstwy wyznaczonej przez 7:\n",
            "..., -108, -102, -96, -90, -84, -78, -72, -66, -60, -54, -48, -42, -36, -30, -24, -18, -12, -6, 0, 6, 12, 18, 24, 30, 36, 42, 48, 54, 60, 66, 72, 78, 84, 90, 96, 102, 108, 114, 120, 126, 132, ...\n"
          ]
        }
      ]
    },
    {
      "cell_type": "markdown",
      "source": [
        "Mamy równość:\n",
        "\n",
        "$$(g_1 + H) + (g_2 + H) = (g_1 + g_2) + H$$\n",
        "\n",
        "co świadczy o izomorfizmie grupy ilorazowej $[\\mathbb{Z}/n\\mathbb{Z}]$ oraz grupy $\\mathbb{Z}_n$.\n",
        "\n",
        "Tak samo można dokonywać rozkładu przestrzeni liniowej względem jej podprzestrzeni, co ma znaczenie z punktu widzenia dekodowania."
      ],
      "metadata": {
        "id": "HGJjwpfB7pFo"
      }
    },
    {
      "cell_type": "markdown",
      "source": [
        "# Twierdzenie Fermata-Eulera"
      ],
      "metadata": {
        "id": "NIE5oqvuArKK"
      }
    },
    {
      "cell_type": "code",
      "source": [
        "#@title { run: \"auto\" }\n",
        "#@markdown Małe tw. Fermata\n",
        "\n",
        "p = 79 #@param {type:\"integer\"}\n",
        "a = 2 #@param {type:\"integer\"}\n",
        "\n",
        "assert p >= 2 and isprime(p) and a > 0 and a < p, \"Wartość p musi być liczbą pierwszą\"\n",
        "\n",
        "wynik = a**(p-1)\n",
        "wynik_mod = wynik % p\n",
        "\n",
        "print(f\"{a}^{p-1} = {wynik} mod-{p} = {wynik_mod}.\")"
      ],
      "metadata": {
        "id": "bNYMU89gAtVP",
        "colab": {
          "base_uri": "https://localhost:8080/"
        },
        "outputId": "5b9172f1-8eb5-45bf-c1af-6bbe70a2174e"
      },
      "execution_count": null,
      "outputs": [
        {
          "output_type": "stream",
          "name": "stdout",
          "text": [
            "2^78 = 302231454903657293676544 mod-79 = 1.\n"
          ]
        }
      ]
    },
    {
      "cell_type": "code",
      "source": [
        "#@title { run: \"auto\" }\n",
        "#@markdown Tw. Fermata-Eulera\n",
        "\n",
        "n = 72 #@param {type:\"integer\"}\n",
        "a = 35 #@param {type:\"integer\"}\n",
        "\n",
        "assert n >= 2 and a > 0 and a < n and math.gcd(a, n) == 1, \"Wartość a ma być mniejsza od n oraz musi być z nią względnie pierwsza\"\n",
        "\n",
        "phi = totient(n)\n",
        "print(f\"Tocjent: φ({n}) = {phi}.\\n\")\n",
        "\n",
        "wynik = a**phi\n",
        "wynik_mod = wynik % n\n",
        "\n",
        "print(f\"{a}^φ({n}) = {wynik} mod-{n} = {wynik_mod}.\")"
      ],
      "metadata": {
        "id": "iOPyjFchCaIG",
        "colab": {
          "base_uri": "https://localhost:8080/"
        },
        "outputId": "bba81b10-7a44-4738-eeab-01a22c018127"
      },
      "execution_count": null,
      "outputs": [
        {
          "output_type": "stream",
          "name": "stdout",
          "text": [
            "Tocjent: φ(72) = 24.\n",
            "\n",
            "35^φ(72) = 11419131242070580387175083160400390625 mod-72 = 1.\n"
          ]
        }
      ]
    }
  ]
}